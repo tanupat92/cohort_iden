{
 "cells": [
  {
   "cell_type": "code",
   "execution_count": 78,
   "id": "fae62c4b",
   "metadata": {},
   "outputs": [],
   "source": [
    "import pandas as pd\n",
    "import numpy as np\n",
    "from pathlib import Path"
   ]
  },
  {
   "cell_type": "code",
   "execution_count": 52,
   "id": "845e4259",
   "metadata": {},
   "outputs": [],
   "source": [
    "from app.config import settings\n",
    "from sqlalchemy import create_engine\n",
    "\n",
    "SQLALCHEMY_DATABASE_URL = f'postgresql://{settings.database_username}:{settings.database_password}@{settings.database_hostname}:{settings.database_port}/{settings.database_name}'\n",
    "\n",
    "\n",
    "engine = create_engine(SQLALCHEMY_DATABASE_URL)"
   ]
  },
  {
   "cell_type": "code",
   "execution_count": 4,
   "id": "6608ef80",
   "metadata": {},
   "outputs": [
    {
     "name": "stdout",
     "output_type": "stream",
     "text": [
      "allergies.csv\n",
      "careplans.csv\n",
      "conditions.csv\n",
      "encounters.csv\n",
      "Loinc.csv\n",
      "observations.csv\n",
      "patients.csv\n",
      "procedures.csv\n",
      "providers.csv\n",
      "sct2_Concept_Full_US1000124_20220901.txt\n",
      "sct2_Description_Full-en_US1000124_20220901.txt\n",
      "sct2_Relationship_Full_US1000124_20220901.txt\n"
     ]
    }
   ],
   "source": [
    "! ls ../data"
   ]
  },
  {
   "cell_type": "code",
   "execution_count": 10,
   "id": "a1707c59",
   "metadata": {},
   "outputs": [],
   "source": [
    "root = Path(\"../data\")"
   ]
  },
  {
   "cell_type": "code",
   "execution_count": 126,
   "id": "fbc90b56",
   "metadata": {},
   "outputs": [],
   "source": [
    "patients = pd.read_csv(root /\"patients.csv\")\n",
    "patients_column = {\"Id\": \"patient_num\", \n",
    "                   \"BIRTHDATE\": \"birth_date\", \n",
    "                   \"DEATHDATE\": \"death_date\", \n",
    "                   \"GENDER\": \"sex_cd\", \n",
    "                   \"RACE\": \"race_cd\", \n",
    "                   \"MARITAL\": \"marital_status_cd\"}\n",
    "patients_type = {\"patient_num\": str, \n",
    "                \"birth_date\": np.datetime64, \n",
    "                \"death_date\": np.datetime64,\n",
    "                \"sex_cd\": str,\n",
    "                \"race_cd\": str,\n",
    "                \"marital_status_cd\": str}\n",
    "patients = patients.rename(patients_column, axis=1)[patients_column.values()]\n",
    "patients = patients.astype(patients_type)\n",
    "patients.race_cd = patients.race_cd.str.get(0)\n",
    "patients.loc[patients.marital_status_cd == 'nan', \"marital_status_cd\"] = \"U\"\n",
    "patients.to_sql(index=False, name=\"patient_dimension\", con=engine, if_exists=\"append\")"
   ]
  },
  {
   "cell_type": "code",
   "execution_count": 158,
   "id": "63710d20",
   "metadata": {},
   "outputs": [
    {
     "data": {
      "text/plain": [
       "119"
      ]
     },
     "execution_count": 158,
     "metadata": {},
     "output_type": "execute_result"
    }
   ],
   "source": [
    "locations = pd.read_csv(root /\"organizations.csv\")\n",
    "locations_column = {\"Id\": \"location_cd\", \n",
    "                   \"NAME\": \"location\"}\n",
    "locations_type = {\"location_cd\": str, \n",
    "                \"location\": str}\n",
    "locations = locations.rename(locations_column, axis=1)[locations_column.values()]\n",
    "locations = locations.astype(locations_type)\n",
    "locations.to_sql(index=False, name=\"location\", con=engine, if_exists=\"append\")"
   ]
  },
  {
   "cell_type": "code",
   "execution_count": 159,
   "id": "e7325418",
   "metadata": {},
   "outputs": [
    {
     "data": {
      "text/plain": [
       "346"
      ]
     },
     "execution_count": 159,
     "metadata": {},
     "output_type": "execute_result"
    }
   ],
   "source": [
    "encounters = pd.read_csv(root /\"encounters.csv\")\n",
    "encounters_column = {\"Id\": \"encounter_num\", \n",
    "                   \"START\": \"start_date\", \n",
    "                   \"STOP\": \"end_date\", \n",
    "                   \"PATIENT\": \"patient_num\", \n",
    "                   \"ORGANIZATION\": \"location_cd\", \n",
    "                   }\n",
    "encounters_type = {\"encounter_num\": str, \n",
    "                \"start_date\": np.datetime64, \n",
    "                \"end_date\": np.datetime64,\n",
    "                \"patient_num\": str,\n",
    "                \"location_cd\": str,\n",
    "                }\n",
    "encounters = encounters.rename(encounters_column, axis=1)[encounters_column.values()]\n",
    "encounters = encounters.astype(encounters_type)\n",
    "encounters.to_sql(index=False, name=\"encounter_dimension\", con=engine, if_exists=\"append\")"
   ]
  },
  {
   "cell_type": "code",
   "execution_count": 161,
   "id": "88562ddf",
   "metadata": {},
   "outputs": [
    {
     "data": {
      "text/plain": [
       "855"
      ]
     },
     "execution_count": 161,
     "metadata": {},
     "output_type": "execute_result"
    }
   ],
   "source": [
    "providers = pd.read_csv(root / \"providers.csv\")\n",
    "providers_column = {\"Id\": \"provider_num\", \n",
    "                   \"NAME\": \"name_char\", \n",
    "                   \"SPECIALITY\": \"provider_blob\", \n",
    "                   \"ORGANIZATION\": \"department\", \n",
    "                   }\n",
    "providers_type = {\"provider_num\": str, \n",
    "                \"name_char\": str,\n",
    "                \"provider_blob\": str,\n",
    "                \"department\": str\n",
    "                }\n",
    "providers = providers.rename(providers_column, axis=1)[providers_column.values()]\n",
    "providers = providers.astype(providers_type)\n",
    "providers.to_sql(index=False, name=\"provider_dimension\", con=engine, if_exists=\"append\")"
   ]
  },
  {
   "cell_type": "code",
   "execution_count": 177,
   "id": "a734635c",
   "metadata": {},
   "outputs": [
    {
     "data": {
      "text/plain": [
       "453"
      ]
     },
     "execution_count": 177,
     "metadata": {},
     "output_type": "execute_result"
    }
   ],
   "source": [
    "snomed_concepts = pd.read_csv(root / \"sct2_Concept_Full_US1000124_20220901.txt\", delimiter=\"\\t\")\n",
    "snomed_concepts_column = {\"id\": \"concept_num\"}\n",
    "snomed_concepts_type = {\"concept_num\": str}\n",
    "snomed_concepts = snomed_concepts.rename(snomed_concepts_column, axis=1)[snomed_concepts_column.values()]\n",
    "snomed_concepts = snomed_concepts.astype(snomed_concepts_type)\n",
    "snomed_concepts[\"sourcesystem_cd\"] = \"SNOMED\"\n",
    "snomed_concepts.concept_num = \"SNOMED:\" + snomed_concepts.concept_num\n",
    "snomed_concepts = snomed_concepts.drop_duplicates()\n",
    "snomed_concepts.to_sql(index=False, name=\"concept_dimension\", con=engine, if_exists=\"append\")"
   ]
  },
  {
   "cell_type": "code",
   "execution_count": 203,
   "id": "be79e357",
   "metadata": {},
   "outputs": [
    {
     "data": {
      "text/plain": [
       "858"
      ]
     },
     "execution_count": 203,
     "metadata": {},
     "output_type": "execute_result"
    }
   ],
   "source": [
    "snomed_descriptions = pd.read_csv(root / \"sct2_Description_Full-en_US1000124_20220901.txt\", delimiter=\"\\t\")\n",
    "snomed_descriptions_column = {\"conceptId\": \"concept_num\",\n",
    "                             \"term\": \"concept_term\", \n",
    "                             \"typeId\": \"term_type\",\n",
    "                             }\n",
    "snomed_descriptions_type = {\"concept_num\": str, \n",
    "                           \"concept_term\": str, \n",
    "                           \"term_type\": str}\n",
    "snomed_descriptions = snomed_descriptions.rename(snomed_descriptions_column, axis=1)[snomed_descriptions_column.values()]\n",
    "snomed_descriptions = snomed_descriptions.astype(snomed_descriptions_type)\n",
    "snomed_descriptions[\"sourcesystem_cd\"] = \"SNOMED\"\n",
    "snomed_descriptions.concept_num = \"SNOMED:\" + snomed_descriptions.concept_num\n",
    "snomed_descriptions[\"normalized_term\"] = snomed_descriptions.concept_term.str.normalize('NFKD').str.encode('ascii', errors='ignore').str.decode('utf-8').str.lower()\n",
    "snomed_descriptions = snomed_descriptions.drop_duplicates([\"concept_num\", \"normalized_term\"])\n",
    "snomed_descriptions = snomed_descriptions.drop(\"normalized_term\", axis=1)\n",
    "snomed_descriptions.to_sql(index=False, name=\"concept_descriptions\", con=engine, if_exists=\"append\")"
   ]
  },
  {
   "cell_type": "code",
   "execution_count": 207,
   "id": "3c130153",
   "metadata": {},
   "outputs": [
    {
     "data": {
      "text/plain": [
       "744"
      ]
     },
     "execution_count": 207,
     "metadata": {},
     "output_type": "execute_result"
    }
   ],
   "source": [
    "snomed_relationships = pd.read_csv(root / \"sct2_Relationship_Full_US1000124_20220901.txt\", delimiter=\"\\t\")\n",
    "snomed_relationships_column = {\"sourceId\": \"source\",\n",
    "                             \"destinationId\": \"target\", \n",
    "                             \"typeId\": \"type_cd\",\n",
    "                             }\n",
    "snomed_relationships_type = {\"source\": str, \n",
    "                           \"target\": str, \n",
    "                           \"type_cd\": str}\n",
    "snomed_relationships = snomed_relationships.rename(snomed_relationships_column, axis=1)[snomed_relationships_column.values()]\n",
    "snomed_relationships = snomed_relationships.astype(snomed_relationships_type)\n",
    "snomed_relationships[\"sourcesystem_cd\"] = \"SNOMED\"\n",
    "snomed_relationships.source = \"SNOMED:\" + snomed_relationships.source\n",
    "snomed_relationships.target = \"SNOMED:\" + snomed_relationships.target\n",
    "snomed_relationships.type_cd = \"SNOMED:\" + snomed_relationships.type_cd\n",
    "snomed_relationships = snomed_relationships.drop_duplicates()\n",
    "snomed_relationships.to_sql(index=False, name=\"concept_relationships\", con=engine, if_exists=\"append\")"
   ]
  },
  {
   "cell_type": "code",
   "execution_count": 229,
   "id": "78a3e448",
   "metadata": {},
   "outputs": [],
   "source": [
    "observations_paths = [\"allergies.csv\", \"conditions.csv\"]\n",
    "observations_column = { \"START\": \"start_date\", \n",
    "                       \"STOP\": \"end_date\", \n",
    "                       \"PATIENT\": \"patient_num\", \n",
    "                       \"ENCOUNTER\": \"encounter_num\", \n",
    "                       \"CODE\": \"concept_cd\"}\n",
    "observations_type = {\"start_date\": np.datetime64,\n",
    "                    \"end_date\": np.datetime64, \n",
    "                    \"patient_num\": str,\n",
    "                    \"encounter_num\": str,\n",
    "                    \"concept_cd\": str,\n",
    "                    }\n",
    "for observation_path in observations_paths:\n",
    "    observations = pd.read_csv(root / observation_path, delimiter=\",\")\n",
    "    observations = observations.rename(observations_column, axis=1)[observations_column.values()]\n",
    "    observations = observations.astype(observations_type)\n",
    "    observations.concept_cd = \"SNOMED:\" + observations.concept_cd\n",
    "    observations['observation_id'] = (observations.patient_num + observations.encounter_num + observations.concept_cd + observations.start_date.astype(str))\n",
    "    observations.to_sql(index=False, name=\"observation_fact\", con=engine, if_exists=\"append\")"
   ]
  },
  {
   "cell_type": "code",
   "execution_count": 278,
   "id": "5f75ac53",
   "metadata": {},
   "outputs": [
    {
     "name": "stderr",
     "output_type": "stream",
     "text": [
      "C:\\Users\\tanup\\AppData\\Local\\Temp\\ipykernel_9916\\2571996007.py:1: DtypeWarning: Columns (8,14,15,16,17,22,27,28,36,38,39) have mixed types. Specify dtype option on import or set low_memory=False.\n",
      "  loinc = pd.read_csv(root / \"Loinc.csv\")\n"
     ]
    }
   ],
   "source": [
    "loinc = pd.read_csv(root / \"Loinc.csv\")\n",
    "loinc = loinc[['LOINC_NUM', 'COMPONENT', 'SHORTNAME', 'LONG_COMMON_NAME' , 'DisplayName', 'DefinitionDescription']]\n",
    "loinc = pd.melt(loinc, id_vars=\"LOINC_NUM\").dropna()[['LOINC_NUM', 'value']]\n",
    "loinc = loinc.rename({\"LOINC_NUM\": \"concept_num\", \"value\": \"concept_term\"}, axis=1)"
   ]
  },
  {
   "cell_type": "code",
   "execution_count": 265,
   "id": "b2ca7dce",
   "metadata": {},
   "outputs": [
    {
     "data": {
      "text/plain": [
       "79"
      ]
     },
     "execution_count": 265,
     "metadata": {},
     "output_type": "execute_result"
    }
   ],
   "source": [
    "loinc_concepts = loinc.concept_num.drop_duplicates()\n",
    "loinc_concepts = \"LOINC:\" + loinc_concepts\n",
    "loinc_concepts = loinc_concepts.to_frame()\n",
    "loinc_concepts['sourcesystem_cd'] = \"LOINC\"\n",
    "loinc_concepts.to_sql(index=False, name=\"concept_dimension\", con=engine, if_exists=\"append\")"
   ]
  },
  {
   "cell_type": "code",
   "execution_count": 279,
   "id": "32b025b5",
   "metadata": {},
   "outputs": [
    {
     "data": {
      "text/plain": [
       "195"
      ]
     },
     "execution_count": 279,
     "metadata": {},
     "output_type": "execute_result"
    }
   ],
   "source": [
    "loinc[\"normalized_term\"] = loinc.concept_term.str.normalize('NFKD').str.encode('ascii', errors='ignore').str.decode('utf-8').str.lower()\n",
    "loinc = loinc.drop_duplicates([\"concept_num\", \"normalized_term\"])\n",
    "loinc = loinc.drop(\"normalized_term\", axis=1)\n",
    "loinc['sourcesystem_cd'] = \"LOINC\"\n",
    "loinc.concept_num = \"LOINC:\" + loinc.concept_num\n",
    "loinc = loinc.loc[loinc.concept_term.str.len() <= 255, :]\n",
    "loinc.to_sql(index=False, name=\"concept_descriptions\", con=engine, if_exists=\"append\")"
   ]
  },
  {
   "cell_type": "code",
   "execution_count": 346,
   "id": "b57981c0",
   "metadata": {},
   "outputs": [
    {
     "data": {
      "text/plain": [
       "654"
      ]
     },
     "execution_count": 346,
     "metadata": {},
     "output_type": "execute_result"
    }
   ],
   "source": [
    "observations = pd.read_csv(root / \"observations.csv\", delimiter=\",\")\n",
    "observations_column = { \"DATE\": \"start_date\",\n",
    "                       \"PATIENT\": \"patient_num\", \n",
    "                       \"ENCOUNTER\": \"encounter_num\", \n",
    "                       \"CODE\": \"concept_cd\", \n",
    "                       \"TYPE\": \"valtype_cd\", \n",
    "                       \"VALUE\": \"value_undefined\", \n",
    "                       \"UNITS\": \"unit\"}\n",
    "observations_type = {\"start_date\": np.datetime64,\n",
    "                    \"patient_num\": str,\n",
    "                    \"encounter_num\": str,\n",
    "                    \"concept_cd\": str,\n",
    "                    \"valtype_cd\": str,\n",
    "                    \"value_undefined\": str,\n",
    "                    \"unit\": str\n",
    "                    }\n",
    "observations = observations.rename(observations_column, axis=1)[observations_column.values()]\n",
    "observations = observations.astype(observations_type)\n",
    "observations.concept_cd = \"LOINC:\" + observations.concept_cd\n",
    "observations['observation_id'] = (observations.patient_num + observations.encounter_num + observations.concept_cd + observations.start_date.astype(str))\n",
    "observations.loc[observations.valtype_cd == \"numeric\", \"valtype_cd\"] = \"N\"\n",
    "observations.loc[observations.valtype_cd == \"text\", \"valtype_cd\"] = \"T\"\n",
    "observations['nval_num'] = observations.loc[observations.valtype_cd == \"N\", \"value_undefined\"].astype(float)\n",
    "observations['tval_char'] = observations.loc[observations.valtype_cd == \"T\", \"value_undefined\"].astype(str)\n",
    "observations = observations.drop(\"value_undefined\", axis=1)\n",
    "observations = observations.loc[observations.concept_cd != \"LOINC:QALY\", :].reset_index(drop=True)\n",
    "observations = observations.loc[observations.concept_cd != \"LOINC:DALY\", :].reset_index(drop=True)\n",
    "observations = observations.loc[observations.concept_cd != \"LOINC:QOLS\", :].reset_index(drop=True)\n",
    "observations = observations.loc[observations.concept_cd != \"LOINC:417181009\", :].reset_index(drop=True)\n",
    "observations = observations.drop_duplicates(\"observation_id\")\n",
    "observations.to_sql(index=False, name=\"observation_fact\", con=engine, if_exists=\"append\")"
   ]
  }
 ],
 "metadata": {
  "kernelspec": {
   "display_name": "Python [conda env:ds] *",
   "language": "python",
   "name": "conda-env-ds-py"
  },
  "language_info": {
   "codemirror_mode": {
    "name": "ipython",
    "version": 3
   },
   "file_extension": ".py",
   "mimetype": "text/x-python",
   "name": "python",
   "nbconvert_exporter": "python",
   "pygments_lexer": "ipython3",
   "version": "3.10.5"
  }
 },
 "nbformat": 4,
 "nbformat_minor": 5
}
