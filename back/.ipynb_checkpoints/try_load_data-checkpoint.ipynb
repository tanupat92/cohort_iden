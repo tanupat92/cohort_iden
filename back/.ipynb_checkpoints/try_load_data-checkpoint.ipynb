{
 "cells": [
  {
   "cell_type": "code",
   "execution_count": 78,
   "id": "c749a225",
   "metadata": {},
   "outputs": [],
   "source": [
    "import pandas as pd\n",
    "import numpy as np\n",
    "from pathlib import Path"
   ]
  },
  {
   "cell_type": "code",
   "execution_count": 52,
   "id": "ddc7ee23",
   "metadata": {},
   "outputs": [],
   "source": [
    "from app.config import settings\n",
    "from sqlalchemy import create_engine\n",
    "\n",
    "SQLALCHEMY_DATABASE_URL = f'postgresql://{settings.database_username}:{settings.database_password}@{settings.database_hostname}:{settings.database_port}/{settings.database_name}'\n",
    "\n",
    "\n",
    "engine = create_engine(SQLALCHEMY_DATABASE_URL)"
   ]
  },
  {
   "cell_type": "code",
   "execution_count": 4,
   "id": "06926f66",
   "metadata": {},
   "outputs": [
    {
     "name": "stdout",
     "output_type": "stream",
     "text": [
      "allergies.csv\n",
      "careplans.csv\n",
      "conditions.csv\n",
      "encounters.csv\n",
      "Loinc.csv\n",
      "observations.csv\n",
      "patients.csv\n",
      "procedures.csv\n",
      "providers.csv\n",
      "sct2_Concept_Full_US1000124_20220901.txt\n",
      "sct2_Description_Full-en_US1000124_20220901.txt\n",
      "sct2_Relationship_Full_US1000124_20220901.txt\n"
     ]
    }
   ],
   "source": [
    "! ls ../data"
   ]
  },
  {
   "cell_type": "code",
   "execution_count": 10,
   "id": "fbf8600a",
   "metadata": {},
   "outputs": [],
   "source": [
    "root = Path(\"../data\")"
   ]
  },
  {
   "cell_type": "code",
   "execution_count": 126,
   "id": "a570d674",
   "metadata": {},
   "outputs": [],
   "source": [
    "patients = pd.read_csv(root /\"patients.csv\")\n",
    "patients_column = {\"Id\": \"patient_num\", \n",
    "                   \"BIRTHDATE\": \"birth_date\", \n",
    "                   \"DEATHDATE\": \"death_date\", \n",
    "                   \"GENDER\": \"sex_cd\", \n",
    "                   \"RACE\": \"race_cd\", \n",
    "                   \"MARITAL\": \"marital_status_cd\"}\n",
    "patients_type = {\"patient_num\": str, \n",
    "                \"birth_date\": np.datetime64, \n",
    "                \"death_date\": np.datetime64,\n",
    "                \"sex_cd\": str,\n",
    "                \"race_cd\": str,\n",
    "                \"marital_status_cd\": str}\n",
    "patients = patients.rename(patients_column, axis=1)[patients_column.values()]\n",
    "patients = patients.astype(patients_type)\n",
    "patients.race_cd = patients.race_cd.str.get(0)\n",
    "patients.loc[patients.marital_status_cd == 'nan', \"marital_status_cd\"] = \"U\"\n",
    "patients.to_sql(index=False, name=\"patient_dimension\", con=engine, if_exists=\"append\")"
   ]
  },
  {
   "cell_type": "code",
   "execution_count": 158,
   "id": "fc3b4658",
   "metadata": {},
   "outputs": [
    {
     "data": {
      "text/plain": [
       "119"
      ]
     },
     "execution_count": 158,
     "metadata": {},
     "output_type": "execute_result"
    }
   ],
   "source": [
    "locations = pd.read_csv(root /\"organizations.csv\")\n",
    "locations_column = {\"Id\": \"location_cd\", \n",
    "                   \"NAME\": \"location\"}\n",
    "locations_type = {\"location_cd\": str, \n",
    "                \"location\": str}\n",
    "locations = locations.rename(locations_column, axis=1)[locations_column.values()]\n",
    "locations = locations.astype(locations_type)\n",
    "locations.to_sql(index=False, name=\"location\", con=engine, if_exists=\"append\")"
   ]
  },
  {
   "cell_type": "code",
   "execution_count": 159,
   "id": "0f4da98b",
   "metadata": {},
   "outputs": [
    {
     "data": {
      "text/plain": [
       "346"
      ]
     },
     "execution_count": 159,
     "metadata": {},
     "output_type": "execute_result"
    }
   ],
   "source": [
    "encounters = pd.read_csv(root /\"encounters.csv\")\n",
    "encounters_column = {\"Id\": \"encounter_num\", \n",
    "                   \"START\": \"start_date\", \n",
    "                   \"STOP\": \"end_date\", \n",
    "                   \"PATIENT\": \"patient_num\", \n",
    "                   \"ORGANIZATION\": \"location_cd\", \n",
    "                   }\n",
    "encounters_type = {\"encounter_num\": str, \n",
    "                \"start_date\": np.datetime64, \n",
    "                \"end_date\": np.datetime64,\n",
    "                \"patient_num\": str,\n",
    "                \"location_cd\": str,\n",
    "                }\n",
    "encounters = encounters.rename(encounters_column, axis=1)[encounters_column.values()]\n",
    "encounters = encounters.astype(encounters_type)\n",
    "encounters.to_sql(index=False, name=\"encounter_dimension\", con=engine, if_exists=\"append\")"
   ]
  },
  {
   "cell_type": "code",
   "execution_count": 161,
   "id": "c8f61954",
   "metadata": {},
   "outputs": [
    {
     "data": {
      "text/plain": [
       "855"
      ]
     },
     "execution_count": 161,
     "metadata": {},
     "output_type": "execute_result"
    }
   ],
   "source": [
    "providers = pd.read_csv(root / \"providers.csv\")\n",
    "providers_column = {\"Id\": \"provider_num\", \n",
    "                   \"NAME\": \"name_char\", \n",
    "                   \"SPECIALITY\": \"provider_blob\", \n",
    "                   \"ORGANIZATION\": \"department\", \n",
    "                   }\n",
    "providers_type = {\"provider_num\": str, \n",
    "                \"name_char\": str,\n",
    "                \"provider_blob\": str,\n",
    "                \"department\": str\n",
    "                }\n",
    "providers = providers.rename(providers_column, axis=1)[providers_column.values()]\n",
    "providers = providers.astype(providers_type)\n",
    "providers.to_sql(index=False, name=\"provider_dimension\", con=engine, if_exists=\"append\")"
   ]
  },
  {
   "cell_type": "code",
   "execution_count": 177,
   "id": "488cc92f",
   "metadata": {},
   "outputs": [
    {
     "data": {
      "text/plain": [
       "453"
      ]
     },
     "execution_count": 177,
     "metadata": {},
     "output_type": "execute_result"
    }
   ],
   "source": [
    "snomed_concepts = pd.read_csv(root / \"sct2_Concept_Full_US1000124_20220901.txt\", delimiter=\"\\t\")\n",
    "snomed_concepts_column = {\"id\": \"concept_num\"}\n",
    "snomed_concepts_type = {\"concept_num\": str}\n",
    "snomed_concepts = snomed_concepts.rename(snomed_concepts_column, axis=1)[snomed_concepts_column.values()]\n",
    "snomed_concepts = snomed_concepts.astype(snomed_concepts_type)\n",
    "snomed_concepts[\"sourcesystem_cd\"] = \"SNOMED\"\n",
    "snomed_concepts.concept_num = \"SNOMED:\" + snomed_concepts.concept_num\n",
    "snomed_concepts = snomed_concepts.drop_duplicates()\n",
    "snomed_concepts.to_sql(index=False, name=\"concept_dimension\", con=engine, if_exists=\"append\")"
   ]
  },
  {
   "cell_type": "code",
   "execution_count": 179,
   "id": "e139a354",
   "metadata": {},
   "outputs": [
    {
     "data": {
      "text/html": [
       "<div>\n",
       "<style scoped>\n",
       "    .dataframe tbody tr th:only-of-type {\n",
       "        vertical-align: middle;\n",
       "    }\n",
       "\n",
       "    .dataframe tbody tr th {\n",
       "        vertical-align: top;\n",
       "    }\n",
       "\n",
       "    .dataframe thead th {\n",
       "        text-align: right;\n",
       "    }\n",
       "</style>\n",
       "<table border=\"1\" class=\"dataframe\">\n",
       "  <thead>\n",
       "    <tr style=\"text-align: right;\">\n",
       "      <th></th>\n",
       "      <th>id</th>\n",
       "      <th>effectiveTime</th>\n",
       "      <th>active</th>\n",
       "      <th>moduleId</th>\n",
       "      <th>conceptId</th>\n",
       "      <th>languageCode</th>\n",
       "      <th>typeId</th>\n",
       "      <th>term</th>\n",
       "      <th>caseSignificanceId</th>\n",
       "    </tr>\n",
       "  </thead>\n",
       "  <tbody>\n",
       "    <tr>\n",
       "      <th>0</th>\n",
       "      <td>101013</td>\n",
       "      <td>20020131</td>\n",
       "      <td>1</td>\n",
       "      <td>900000000000207008</td>\n",
       "      <td>126813005</td>\n",
       "      <td>en</td>\n",
       "      <td>900000000000013009</td>\n",
       "      <td>Neoplasm of anterior aspect of epiglottis</td>\n",
       "      <td>900000000000020002</td>\n",
       "    </tr>\n",
       "    <tr>\n",
       "      <th>1</th>\n",
       "      <td>101013</td>\n",
       "      <td>20170731</td>\n",
       "      <td>1</td>\n",
       "      <td>900000000000207008</td>\n",
       "      <td>126813005</td>\n",
       "      <td>en</td>\n",
       "      <td>900000000000013009</td>\n",
       "      <td>Neoplasm of anterior aspect of epiglottis</td>\n",
       "      <td>900000000000448009</td>\n",
       "    </tr>\n",
       "    <tr>\n",
       "      <th>2</th>\n",
       "      <td>102018</td>\n",
       "      <td>20020131</td>\n",
       "      <td>1</td>\n",
       "      <td>900000000000207008</td>\n",
       "      <td>126814004</td>\n",
       "      <td>en</td>\n",
       "      <td>900000000000013009</td>\n",
       "      <td>Neoplasm of junctional region of epiglottis</td>\n",
       "      <td>900000000000020002</td>\n",
       "    </tr>\n",
       "    <tr>\n",
       "      <th>3</th>\n",
       "      <td>102018</td>\n",
       "      <td>20170731</td>\n",
       "      <td>1</td>\n",
       "      <td>900000000000207008</td>\n",
       "      <td>126814004</td>\n",
       "      <td>en</td>\n",
       "      <td>900000000000013009</td>\n",
       "      <td>Neoplasm of junctional region of epiglottis</td>\n",
       "      <td>900000000000448009</td>\n",
       "    </tr>\n",
       "    <tr>\n",
       "      <th>4</th>\n",
       "      <td>103011</td>\n",
       "      <td>20020131</td>\n",
       "      <td>1</td>\n",
       "      <td>900000000000207008</td>\n",
       "      <td>126815003</td>\n",
       "      <td>en</td>\n",
       "      <td>900000000000013009</td>\n",
       "      <td>Neoplasm of lateral wall of oropharynx</td>\n",
       "      <td>900000000000020002</td>\n",
       "    </tr>\n",
       "  </tbody>\n",
       "</table>\n",
       "</div>"
      ],
      "text/plain": [
       "       id  effectiveTime  active            moduleId  conceptId languageCode  \\\n",
       "0  101013       20020131       1  900000000000207008  126813005           en   \n",
       "1  101013       20170731       1  900000000000207008  126813005           en   \n",
       "2  102018       20020131       1  900000000000207008  126814004           en   \n",
       "3  102018       20170731       1  900000000000207008  126814004           en   \n",
       "4  103011       20020131       1  900000000000207008  126815003           en   \n",
       "\n",
       "               typeId                                         term  \\\n",
       "0  900000000000013009    Neoplasm of anterior aspect of epiglottis   \n",
       "1  900000000000013009    Neoplasm of anterior aspect of epiglottis   \n",
       "2  900000000000013009  Neoplasm of junctional region of epiglottis   \n",
       "3  900000000000013009  Neoplasm of junctional region of epiglottis   \n",
       "4  900000000000013009       Neoplasm of lateral wall of oropharynx   \n",
       "\n",
       "   caseSignificanceId  \n",
       "0  900000000000020002  \n",
       "1  900000000000448009  \n",
       "2  900000000000020002  \n",
       "3  900000000000448009  \n",
       "4  900000000000020002  "
      ]
     },
     "execution_count": 179,
     "metadata": {},
     "output_type": "execute_result"
    }
   ],
   "source": [
    "snomed_descriptions.head()"
   ]
  },
  {
   "cell_type": "code",
   "execution_count": 203,
   "id": "ea4a574d",
   "metadata": {},
   "outputs": [
    {
     "data": {
      "text/plain": [
       "858"
      ]
     },
     "execution_count": 203,
     "metadata": {},
     "output_type": "execute_result"
    }
   ],
   "source": [
    "snomed_descriptions = pd.read_csv(root / \"sct2_Description_Full-en_US1000124_20220901.txt\", delimiter=\"\\t\")\n",
    "snomed_descriptions_column = {\"conceptId\": \"concept_num\",\n",
    "                             \"term\": \"concept_term\", \n",
    "                             \"typeId\": \"term_type\",\n",
    "                             }\n",
    "snomed_descriptions_type = {\"concept_num\": str, \n",
    "                           \"concept_term\": str, \n",
    "                           \"term_type\": str}\n",
    "snomed_descriptions = snomed_descriptions.rename(snomed_descriptions_column, axis=1)[snomed_descriptions_column.values()]\n",
    "snomed_descriptions = snomed_descriptions.astype(snomed_descriptions_type)\n",
    "snomed_descriptions[\"sourcesystem_cd\"] = \"SNOMED\"\n",
    "snomed_descriptions.concept_num = \"SNOMED:\" + snomed_descriptions.concept_num\n",
    "snomed_descriptions[\"normalized_term\"] = snomed_descriptions.concept_term.str.normalize('NFKD').str.encode('ascii', errors='ignore').str.decode('utf-8').str.lower()\n",
    "snomed_descriptions = snomed_descriptions.drop_duplicates([\"concept_num\", \"normalized_term\"])\n",
    "snomed_descriptions = snomed_descriptions.drop(\"normalized_term\", axis=1)\n",
    "snomed_descriptions.to_sql(index=False, name=\"concept_descriptions\", con=engine, if_exists=\"append\")"
   ]
  },
  {
   "cell_type": "code",
   "execution_count": 207,
   "id": "2a2f3a7d",
   "metadata": {},
   "outputs": [
    {
     "data": {
      "text/plain": [
       "744"
      ]
     },
     "execution_count": 207,
     "metadata": {},
     "output_type": "execute_result"
    }
   ],
   "source": [
    "snomed_relationships = pd.read_csv(root / \"sct2_Relationship_Full_US1000124_20220901.txt\", delimiter=\"\\t\")\n",
    "snomed_relationships_column = {\"sourceId\": \"source\",\n",
    "                             \"destinationId\": \"target\", \n",
    "                             \"typeId\": \"type_cd\",\n",
    "                             }\n",
    "snomed_relationships_type = {\"source\": str, \n",
    "                           \"target\": str, \n",
    "                           \"type_cd\": str}\n",
    "snomed_relationships = snomed_relationships.rename(snomed_relationships_column, axis=1)[snomed_relationships_column.values()]\n",
    "snomed_relationships = snomed_relationships.astype(snomed_relationships_type)\n",
    "snomed_relationships[\"sourcesystem_cd\"] = \"SNOMED\"\n",
    "snomed_relationships.source = \"SNOMED:\" + snomed_relationships.source\n",
    "snomed_relationships.target = \"SNOMED:\" + snomed_relationships.target\n",
    "snomed_relationships.type_cd = \"SNOMED:\" + snomed_relationships.type_cd\n",
    "snomed_relationships = snomed_relationships.drop_duplicates()\n",
    "snomed_relationships.to_sql(index=False, name=\"concept_relationships\", con=engine, if_exists=\"append\")"
   ]
  },
  {
   "cell_type": "code",
   "execution_count": null,
   "id": "956e73d4",
   "metadata": {},
   "outputs": [],
   "source": [
    "allergies START,STOP,PATIENT,ENCOUNTER,CODE,DESCRIPTION\n",
    "careplan Id,START,STOP,PATIENT,ENCOUNTER,CODE,DESCRIPTION,REASONCODE,REASONDESCRIPTION\n",
    "conditions START,STOP,PATIENT,ENCOUNTER,CODE,DESCRIPTION\n",
    "observations DATE,PATIENT,ENCOUNTER,CODE,DESCRIPTION,VALUE,UNITS,TYPE"
   ]
  },
  {
   "cell_type": "code",
   "execution_count": 229,
   "id": "2d2be496",
   "metadata": {},
   "outputs": [],
   "source": [
    "observations_paths = [\"allergies.csv\", \"conditions.csv\"]\n",
    "observations_column = { \"START\": \"start_date\", \n",
    "                       \"STOP\": \"end_date\", \n",
    "                       \"PATIENT\": \"patient_num\", \n",
    "                       \"ENCOUNTER\": \"encounter_num\", \n",
    "                       \"CODE\": \"concept_cd\"}\n",
    "observations_type = {\"start_date\": np.datetime64,\n",
    "                    \"end_date\": np.datetime64, \n",
    "                    \"patient_num\": str,\n",
    "                    \"encounter_num\": str,\n",
    "                    \"concept_cd\": str,\n",
    "                    }\n",
    "for observation_path in observations_paths:\n",
    "    observations = pd.read_csv(root / observation_path, delimiter=\",\")\n",
    "    observations = observations.rename(observations_column, axis=1)[observations_column.values()]\n",
    "    observations = observations.astype(observations_type)\n",
    "    observations.concept_cd = \"SNOMED:\" + observations.concept_cd\n",
    "    observations['observation_id'] = (observations.patient_num + observations.encounter_num + observations.concept_cd + observations.start_date.astype(str))\n",
    "    observations.to_sql(index=False, name=\"observation_fact\", con=engine, if_exists=\"append\")"
   ]
  },
  {
   "cell_type": "code",
   "execution_count": 235,
   "id": "1a4759c6",
   "metadata": {},
   "outputs": [
    {
     "name": "stdout",
     "output_type": "stream",
     "text": [
      "<class 'pandas.core.frame.DataFrame'>\n",
      "RangeIndex: 99079 entries, 0 to 99078\n",
      "Data columns (total 41 columns):\n",
      " #   Column                     Non-Null Count  Dtype  \n",
      "---  ------                     --------------  -----  \n",
      " 0   LOINC_NUM                  99079 non-null  object \n",
      " 1   COMPONENT                  99079 non-null  object \n",
      " 2   PROPERTY                   99079 non-null  object \n",
      " 3   TIME_ASPCT                 99079 non-null  object \n",
      " 4   SYSTEM                     99079 non-null  object \n",
      " 5   SCALE_TYP                  99079 non-null  object \n",
      " 6   METHOD_TYP                 53182 non-null  object \n",
      " 7   CLASS                      99079 non-null  object \n",
      " 8   VersionLastChanged         99079 non-null  object \n",
      " 9   CHNG_TYPE                  99079 non-null  object \n",
      " 10  DefinitionDescription      12621 non-null  object \n",
      " 11  STATUS                     99079 non-null  object \n",
      " 12  CONSUMER_NAME              0 non-null      float64\n",
      " 13  CLASSTYPE                  99079 non-null  int64  \n",
      " 14  FORMULA                    654 non-null    object \n",
      " 15  EXMPL_ANSWERS              4882 non-null   object \n",
      " 16  SURVEY_QUEST_TEXT          8183 non-null   object \n",
      " 17  SURVEY_QUEST_SRC           9946 non-null   object \n",
      " 18  UNITSREQUIRED              61113 non-null  object \n",
      " 19  RELATEDNAMES2              99079 non-null  object \n",
      " 20  SHORTNAME                  86197 non-null  object \n",
      " 21  ORDER_OBS                  83863 non-null  object \n",
      " 22  HL7_FIELD_SUBFIELD_ID      97 non-null     object \n",
      " 23  EXTERNAL_COPYRIGHT_NOTICE  7212 non-null   object \n",
      " 24  EXAMPLE_UNITS              38230 non-null  object \n",
      " 25  LONG_COMMON_NAME           99079 non-null  object \n",
      " 26  EXAMPLE_UCUM_UNITS         41367 non-null  object \n",
      " 27  STATUS_REASON              2725 non-null   object \n",
      " 28  STATUS_TEXT                3709 non-null   object \n",
      " 29  CHANGE_REASON_PUBLIC       30880 non-null  object \n",
      " 30  COMMON_TEST_RANK           99079 non-null  int64  \n",
      " 31  COMMON_ORDER_RANK          99079 non-null  int64  \n",
      " 32  COMMON_SI_TEST_RANK        99079 non-null  int64  \n",
      " 33  HL7_ATTACHMENT_STRUCTURE   7773 non-null   object \n",
      " 34  EXTERNAL_COPYRIGHT_LINK    7212 non-null   object \n",
      " 35  PanelType                  4675 non-null   object \n",
      " 36  AskAtOrderEntry            65 non-null     object \n",
      " 37  AssociatedObservations     8058 non-null   object \n",
      " 38  VersionFirstReleased       99079 non-null  object \n",
      " 39  ValidHL7AttachmentRequest  106 non-null    object \n",
      " 40  DisplayName                59572 non-null  object \n",
      "dtypes: float64(1), int64(4), object(36)\n",
      "memory usage: 31.0+ MB\n"
     ]
    }
   ],
   "source": [
    "loinc.info()"
   ]
  },
  {
   "cell_type": "code",
   "execution_count": 278,
   "id": "00d7b3d1",
   "metadata": {},
   "outputs": [
    {
     "name": "stderr",
     "output_type": "stream",
     "text": [
      "C:\\Users\\tanup\\AppData\\Local\\Temp\\ipykernel_9916\\2571996007.py:1: DtypeWarning: Columns (8,14,15,16,17,22,27,28,36,38,39) have mixed types. Specify dtype option on import or set low_memory=False.\n",
      "  loinc = pd.read_csv(root / \"Loinc.csv\")\n"
     ]
    }
   ],
   "source": [
    "loinc = pd.read_csv(root / \"Loinc.csv\")\n",
    "loinc = loinc[['LOINC_NUM', 'COMPONENT', 'SHORTNAME', 'LONG_COMMON_NAME' , 'DisplayName', 'DefinitionDescription']]\n",
    "loinc = pd.melt(loinc, id_vars=\"LOINC_NUM\").dropna()[['LOINC_NUM', 'value']]\n",
    "loinc = loinc.rename({\"LOINC_NUM\": \"concept_num\", \"value\": \"concept_term\"}, axis=1)"
   ]
  },
  {
   "cell_type": "code",
   "execution_count": 265,
   "id": "6c4c2691",
   "metadata": {},
   "outputs": [
    {
     "data": {
      "text/plain": [
       "79"
      ]
     },
     "execution_count": 265,
     "metadata": {},
     "output_type": "execute_result"
    }
   ],
   "source": [
    "loinc_concepts = loinc.concept_num.drop_duplicates()\n",
    "loinc_concepts = \"LOINC:\" + loinc_concepts\n",
    "loinc_concepts = loinc_concepts.to_frame()\n",
    "loinc_concepts['sourcesystem_cd'] = \"LOINC\"\n",
    "loinc_concepts.to_sql(index=False, name=\"concept_dimension\", con=engine, if_exists=\"append\")"
   ]
  },
  {
   "cell_type": "code",
   "execution_count": 279,
   "id": "3b92f5e4",
   "metadata": {},
   "outputs": [
    {
     "data": {
      "text/plain": [
       "195"
      ]
     },
     "execution_count": 279,
     "metadata": {},
     "output_type": "execute_result"
    }
   ],
   "source": [
    "loinc[\"normalized_term\"] = loinc.concept_term.str.normalize('NFKD').str.encode('ascii', errors='ignore').str.decode('utf-8').str.lower()\n",
    "loinc = loinc.drop_duplicates([\"concept_num\", \"normalized_term\"])\n",
    "loinc = loinc.drop(\"normalized_term\", axis=1)\n",
    "loinc['sourcesystem_cd'] = \"LOINC\"\n",
    "loinc.concept_num = \"LOINC:\" + loinc.concept_num\n",
    "loinc = loinc.loc[loinc.concept_term.str.len() <= 255, :]\n",
    "loinc.to_sql(index=False, name=\"concept_descriptions\", con=engine, if_exists=\"append\")"
   ]
  },
  {
   "cell_type": "code",
   "execution_count": 281,
   "id": "0835b3be",
   "metadata": {},
   "outputs": [
    {
     "data": {
      "text/html": [
       "<div>\n",
       "<style scoped>\n",
       "    .dataframe tbody tr th:only-of-type {\n",
       "        vertical-align: middle;\n",
       "    }\n",
       "\n",
       "    .dataframe tbody tr th {\n",
       "        vertical-align: top;\n",
       "    }\n",
       "\n",
       "    .dataframe thead th {\n",
       "        text-align: right;\n",
       "    }\n",
       "</style>\n",
       "<table border=\"1\" class=\"dataframe\">\n",
       "  <thead>\n",
       "    <tr style=\"text-align: right;\">\n",
       "      <th></th>\n",
       "      <th>DATE</th>\n",
       "      <th>PATIENT</th>\n",
       "      <th>ENCOUNTER</th>\n",
       "      <th>CODE</th>\n",
       "      <th>DESCRIPTION</th>\n",
       "      <th>VALUE</th>\n",
       "      <th>UNITS</th>\n",
       "      <th>TYPE</th>\n",
       "    </tr>\n",
       "  </thead>\n",
       "  <tbody>\n",
       "    <tr>\n",
       "      <th>0</th>\n",
       "      <td>2012-01-23T17:45:28Z</td>\n",
       "      <td>034e9e3b-2def-4559-bb2a-7850888ae060</td>\n",
       "      <td>e88bc3a9-007c-405e-aabc-792a38f4aa2b</td>\n",
       "      <td>8302-2</td>\n",
       "      <td>Body Height</td>\n",
       "      <td>193.3</td>\n",
       "      <td>cm</td>\n",
       "      <td>numeric</td>\n",
       "    </tr>\n",
       "    <tr>\n",
       "      <th>1</th>\n",
       "      <td>2012-01-23T17:45:28Z</td>\n",
       "      <td>034e9e3b-2def-4559-bb2a-7850888ae060</td>\n",
       "      <td>e88bc3a9-007c-405e-aabc-792a38f4aa2b</td>\n",
       "      <td>72514-3</td>\n",
       "      <td>Pain severity - 0-10 verbal numeric rating [Sc...</td>\n",
       "      <td>2.0</td>\n",
       "      <td>{score}</td>\n",
       "      <td>numeric</td>\n",
       "    </tr>\n",
       "    <tr>\n",
       "      <th>2</th>\n",
       "      <td>2012-01-23T17:45:28Z</td>\n",
       "      <td>034e9e3b-2def-4559-bb2a-7850888ae060</td>\n",
       "      <td>e88bc3a9-007c-405e-aabc-792a38f4aa2b</td>\n",
       "      <td>29463-7</td>\n",
       "      <td>Body Weight</td>\n",
       "      <td>87.8</td>\n",
       "      <td>kg</td>\n",
       "      <td>numeric</td>\n",
       "    </tr>\n",
       "    <tr>\n",
       "      <th>3</th>\n",
       "      <td>2012-01-23T17:45:28Z</td>\n",
       "      <td>034e9e3b-2def-4559-bb2a-7850888ae060</td>\n",
       "      <td>e88bc3a9-007c-405e-aabc-792a38f4aa2b</td>\n",
       "      <td>39156-5</td>\n",
       "      <td>Body Mass Index</td>\n",
       "      <td>23.5</td>\n",
       "      <td>kg/m2</td>\n",
       "      <td>numeric</td>\n",
       "    </tr>\n",
       "    <tr>\n",
       "      <th>4</th>\n",
       "      <td>2012-01-23T17:45:28Z</td>\n",
       "      <td>034e9e3b-2def-4559-bb2a-7850888ae060</td>\n",
       "      <td>e88bc3a9-007c-405e-aabc-792a38f4aa2b</td>\n",
       "      <td>8462-4</td>\n",
       "      <td>Diastolic Blood Pressure</td>\n",
       "      <td>82.0</td>\n",
       "      <td>mm[Hg]</td>\n",
       "      <td>numeric</td>\n",
       "    </tr>\n",
       "  </tbody>\n",
       "</table>\n",
       "</div>"
      ],
      "text/plain": [
       "                   DATE                               PATIENT  \\\n",
       "0  2012-01-23T17:45:28Z  034e9e3b-2def-4559-bb2a-7850888ae060   \n",
       "1  2012-01-23T17:45:28Z  034e9e3b-2def-4559-bb2a-7850888ae060   \n",
       "2  2012-01-23T17:45:28Z  034e9e3b-2def-4559-bb2a-7850888ae060   \n",
       "3  2012-01-23T17:45:28Z  034e9e3b-2def-4559-bb2a-7850888ae060   \n",
       "4  2012-01-23T17:45:28Z  034e9e3b-2def-4559-bb2a-7850888ae060   \n",
       "\n",
       "                              ENCOUNTER     CODE  \\\n",
       "0  e88bc3a9-007c-405e-aabc-792a38f4aa2b   8302-2   \n",
       "1  e88bc3a9-007c-405e-aabc-792a38f4aa2b  72514-3   \n",
       "2  e88bc3a9-007c-405e-aabc-792a38f4aa2b  29463-7   \n",
       "3  e88bc3a9-007c-405e-aabc-792a38f4aa2b  39156-5   \n",
       "4  e88bc3a9-007c-405e-aabc-792a38f4aa2b   8462-4   \n",
       "\n",
       "                                         DESCRIPTION  VALUE    UNITS     TYPE  \n",
       "0                                        Body Height  193.3       cm  numeric  \n",
       "1  Pain severity - 0-10 verbal numeric rating [Sc...    2.0  {score}  numeric  \n",
       "2                                        Body Weight   87.8       kg  numeric  \n",
       "3                                    Body Mass Index   23.5    kg/m2  numeric  \n",
       "4                           Diastolic Blood Pressure   82.0   mm[Hg]  numeric  "
      ]
     },
     "execution_count": 281,
     "metadata": {},
     "output_type": "execute_result"
    }
   ],
   "source": [
    "\n",
    "observations.head()"
   ]
  },
  {
   "cell_type": "code",
   "execution_count": 341,
   "id": "228a487f",
   "metadata": {},
   "outputs": [
    {
     "ename": "IntegrityError",
     "evalue": "(psycopg2.errors.ForeignKeyViolation) insert or update on table \"observation_fact\" violates foreign key constraint \"observation_fact_concept_cd_fkey\"\nDETAIL:  Key (concept_cd)=(LOINC:DALY) is not present in table \"concept_dimension\".\n\n[SQL: INSERT INTO observation_fact (start_date, patient_num, encounter_num, concept_cd, valtype_cd, unit, observation_id, nval_num, tval_char) VALUES (%(start_date)s, %(patient_num)s, %(encounter_num)s, %(concept_cd)s, %(valtype_cd)s, %(unit)s, %(observation_id)s, %(nval_num)s, %(tval_char)s)]\n[parameters: ({'start_date': datetime.datetime(2012, 1, 23, 17, 45, 28), 'patient_num': '034e9e3b-2def-4559-bb2a-7850888ae060', 'encounter_num': 'e88bc3a9-007c-405e-aabc-792a38f4aa2b', 'concept_cd': 'LOINC:8302-2', 'valtype_cd': 'N', 'unit': 'cm', 'observation_id': '034e9e3b-2def-4559-bb2a-7850888ae060e88bc3a9-007c-405e-aabc-792a38f4aa2bLOINC:8302-22012-01-23 17:45:28', 'nval_num': 193.3, 'tval_char': None}, {'start_date': datetime.datetime(2012, 1, 23, 17, 45, 28), 'patient_num': '034e9e3b-2def-4559-bb2a-7850888ae060', 'encounter_num': 'e88bc3a9-007c-405e-aabc-792a38f4aa2b', 'concept_cd': 'LOINC:72514-3', 'valtype_cd': 'N', 'unit': '{score}', 'observation_id': '034e9e3b-2def-4559-bb2a-7850888ae060e88bc3a9-007c-405e-aabc-792a38f4aa2bLOINC:72514-32012-01-23 17:45:28', 'nval_num': 2.0, 'tval_char': None}, {'start_date': datetime.datetime(2012, 1, 23, 17, 45, 28), 'patient_num': '034e9e3b-2def-4559-bb2a-7850888ae060', 'encounter_num': 'e88bc3a9-007c-405e-aabc-792a38f4aa2b', 'concept_cd': 'LOINC:29463-7', 'valtype_cd': 'N', 'unit': 'kg', 'observation_id': '034e9e3b-2def-4559-bb2a-7850888ae060e88bc3a9-007c-405e-aabc-792a38f4aa2bLOINC:29463-72012-01-23 17:45:28', 'nval_num': 87.8, 'tval_char': None}, {'start_date': datetime.datetime(2012, 1, 23, 17, 45, 28), 'patient_num': '034e9e3b-2def-4559-bb2a-7850888ae060', 'encounter_num': 'e88bc3a9-007c-405e-aabc-792a38f4aa2b', 'concept_cd': 'LOINC:39156-5', 'valtype_cd': 'N', 'unit': 'kg/m2', 'observation_id': '034e9e3b-2def-4559-bb2a-7850888ae060e88bc3a9-007c-405e-aabc-792a38f4aa2bLOINC:39156-52012-01-23 17:45:28', 'nval_num': 23.5, 'tval_char': None}, {'start_date': datetime.datetime(2012, 1, 23, 17, 45, 28), 'patient_num': '034e9e3b-2def-4559-bb2a-7850888ae060', 'encounter_num': 'e88bc3a9-007c-405e-aabc-792a38f4aa2b', 'concept_cd': 'LOINC:8462-4', 'valtype_cd': 'N', 'unit': 'mm[Hg]', 'observation_id': '034e9e3b-2def-4559-bb2a-7850888ae060e88bc3a9-007c-405e-aabc-792a38f4aa2bLOINC:8462-42012-01-23 17:45:28', 'nval_num': 82.0, 'tval_char': None}, {'start_date': datetime.datetime(2012, 1, 23, 17, 45, 28), 'patient_num': '034e9e3b-2def-4559-bb2a-7850888ae060', 'encounter_num': 'e88bc3a9-007c-405e-aabc-792a38f4aa2b', 'concept_cd': 'LOINC:8480-6', 'valtype_cd': 'N', 'unit': 'mm[Hg]', 'observation_id': '034e9e3b-2def-4559-bb2a-7850888ae060e88bc3a9-007c-405e-aabc-792a38f4aa2bLOINC:8480-62012-01-23 17:45:28', 'nval_num': 119.0, 'tval_char': None}, {'start_date': datetime.datetime(2012, 1, 23, 17, 45, 28), 'patient_num': '034e9e3b-2def-4559-bb2a-7850888ae060', 'encounter_num': 'e88bc3a9-007c-405e-aabc-792a38f4aa2b', 'concept_cd': 'LOINC:8867-4', 'valtype_cd': 'N', 'unit': '/min', 'observation_id': '034e9e3b-2def-4559-bb2a-7850888ae060e88bc3a9-007c-405e-aabc-792a38f4aa2bLOINC:8867-42012-01-23 17:45:28', 'nval_num': 77.0, 'tval_char': None}, {'start_date': datetime.datetime(2012, 1, 23, 17, 45, 28), 'patient_num': '034e9e3b-2def-4559-bb2a-7850888ae060', 'encounter_num': 'e88bc3a9-007c-405e-aabc-792a38f4aa2b', 'concept_cd': 'LOINC:9279-1', 'valtype_cd': 'N', 'unit': '/min', 'observation_id': '034e9e3b-2def-4559-bb2a-7850888ae060e88bc3a9-007c-405e-aabc-792a38f4aa2bLOINC:9279-12012-01-23 17:45:28', 'nval_num': 14.0, 'tval_char': None}  ... displaying 10 of 287897 total bound parameter sets ...  {'start_date': datetime.datetime(2018, 9, 5, 16, 27, 52), 'patient_num': 'fc817953-cc8b-45db-9c85-7c0ced8fa90d', 'encounter_num': 'nan', 'concept_cd': 'LOINC:QOLS', 'valtype_cd': 'N', 'unit': '{score}', 'observation_id': 'fc817953-cc8b-45db-9c85-7c0ced8fa90dnanLOINC:QOLS2018-09-05 16:27:52', 'nval_num': 1.0, 'tval_char': None}, {'start_date': datetime.datetime(2019, 9, 5, 16, 27, 52), 'patient_num': 'fc817953-cc8b-45db-9c85-7c0ced8fa90d', 'encounter_num': 'nan', 'concept_cd': 'LOINC:QOLS', 'valtype_cd': 'N', 'unit': '{score}', 'observation_id': 'fc817953-cc8b-45db-9c85-7c0ced8fa90dnanLOINC:QOLS2019-09-05 16:27:52', 'nval_num': 1.0, 'tval_char': None})]\n(Background on this error at: https://sqlalche.me/e/14/gkpj)",
     "output_type": "error",
     "traceback": [
      "\u001b[1;31m---------------------------------------------------------------------------\u001b[0m",
      "\u001b[1;31mForeignKeyViolation\u001b[0m                       Traceback (most recent call last)",
      "File \u001b[1;32m~\\anaconda3\\envs\\ds\\lib\\site-packages\\sqlalchemy\\engine\\base.py:1880\u001b[0m, in \u001b[0;36mConnection._execute_context\u001b[1;34m(self, dialect, constructor, statement, parameters, execution_options, *args, **kw)\u001b[0m\n\u001b[0;32m   1879\u001b[0m     \u001b[38;5;28;01mif\u001b[39;00m \u001b[38;5;129;01mnot\u001b[39;00m evt_handled:\n\u001b[1;32m-> 1880\u001b[0m         \u001b[38;5;28;43mself\u001b[39;49m\u001b[38;5;241;43m.\u001b[39;49m\u001b[43mdialect\u001b[49m\u001b[38;5;241;43m.\u001b[39;49m\u001b[43mdo_executemany\u001b[49m\u001b[43m(\u001b[49m\n\u001b[0;32m   1881\u001b[0m \u001b[43m            \u001b[49m\u001b[43mcursor\u001b[49m\u001b[43m,\u001b[49m\u001b[43m \u001b[49m\u001b[43mstatement\u001b[49m\u001b[43m,\u001b[49m\u001b[43m \u001b[49m\u001b[43mparameters\u001b[49m\u001b[43m,\u001b[49m\u001b[43m \u001b[49m\u001b[43mcontext\u001b[49m\n\u001b[0;32m   1882\u001b[0m \u001b[43m        \u001b[49m\u001b[43m)\u001b[49m\n\u001b[0;32m   1883\u001b[0m \u001b[38;5;28;01melif\u001b[39;00m \u001b[38;5;129;01mnot\u001b[39;00m parameters \u001b[38;5;129;01mand\u001b[39;00m context\u001b[38;5;241m.\u001b[39mno_parameters:\n",
      "File \u001b[1;32m~\\anaconda3\\envs\\ds\\lib\\site-packages\\sqlalchemy\\dialects\\postgresql\\psycopg2.py:982\u001b[0m, in \u001b[0;36mPGDialect_psycopg2.do_executemany\u001b[1;34m(self, cursor, statement, parameters, context)\u001b[0m\n\u001b[0;32m    981\u001b[0m     xtras \u001b[38;5;241m=\u001b[39m \u001b[38;5;28mself\u001b[39m\u001b[38;5;241m.\u001b[39m_psycopg2_extras()\n\u001b[1;32m--> 982\u001b[0m     context\u001b[38;5;241m.\u001b[39m_psycopg2_fetched_rows \u001b[38;5;241m=\u001b[39m xtras\u001b[38;5;241m.\u001b[39mexecute_values(\n\u001b[0;32m    983\u001b[0m         cursor,\n\u001b[0;32m    984\u001b[0m         statement,\n\u001b[0;32m    985\u001b[0m         parameters,\n\u001b[0;32m    986\u001b[0m         template\u001b[38;5;241m=\u001b[39mexecutemany_values,\n\u001b[0;32m    987\u001b[0m         fetch\u001b[38;5;241m=\u001b[39m\u001b[38;5;28mbool\u001b[39m(context\u001b[38;5;241m.\u001b[39mcompiled\u001b[38;5;241m.\u001b[39mreturning),\n\u001b[0;32m    988\u001b[0m         \u001b[38;5;241m*\u001b[39m\u001b[38;5;241m*\u001b[39mkwargs\n\u001b[0;32m    989\u001b[0m     )\n\u001b[0;32m    991\u001b[0m \u001b[38;5;28;01melif\u001b[39;00m \u001b[38;5;28mself\u001b[39m\u001b[38;5;241m.\u001b[39mexecutemany_mode \u001b[38;5;241m&\u001b[39m EXECUTEMANY_BATCH:\n",
      "File \u001b[1;32m~\\anaconda3\\envs\\ds\\lib\\site-packages\\psycopg2\\extras.py:1270\u001b[0m, in \u001b[0;36mexecute_values\u001b[1;34m(cur, sql, argslist, template, page_size, fetch)\u001b[0m\n\u001b[0;32m   1269\u001b[0m parts[\u001b[38;5;241m-\u001b[39m\u001b[38;5;241m1\u001b[39m:] \u001b[38;5;241m=\u001b[39m post\n\u001b[1;32m-> 1270\u001b[0m \u001b[43mcur\u001b[49m\u001b[38;5;241;43m.\u001b[39;49m\u001b[43mexecute\u001b[49m\u001b[43m(\u001b[49m\u001b[38;5;124;43mb\u001b[39;49m\u001b[38;5;124;43m'\u001b[39;49m\u001b[38;5;124;43m'\u001b[39;49m\u001b[38;5;241;43m.\u001b[39;49m\u001b[43mjoin\u001b[49m\u001b[43m(\u001b[49m\u001b[43mparts\u001b[49m\u001b[43m)\u001b[49m\u001b[43m)\u001b[49m\n\u001b[0;32m   1271\u001b[0m \u001b[38;5;28;01mif\u001b[39;00m fetch:\n",
      "\u001b[1;31mForeignKeyViolation\u001b[0m: insert or update on table \"observation_fact\" violates foreign key constraint \"observation_fact_concept_cd_fkey\"\nDETAIL:  Key (concept_cd)=(LOINC:DALY) is not present in table \"concept_dimension\".\n",
      "\nThe above exception was the direct cause of the following exception:\n",
      "\u001b[1;31mIntegrityError\u001b[0m                            Traceback (most recent call last)",
      "Cell \u001b[1;32mIn [341], line 30\u001b[0m\n\u001b[0;32m     28\u001b[0m observations \u001b[38;5;241m=\u001b[39m observations\u001b[38;5;241m.\u001b[39mloc[observations\u001b[38;5;241m.\u001b[39mconcept_cd \u001b[38;5;241m!=\u001b[39m \u001b[38;5;124m\"\u001b[39m\u001b[38;5;124mLOINC:QOLS\u001b[39m\u001b[38;5;124m\"\u001b[39m, :]\u001b[38;5;241m.\u001b[39mreset_index(drop\u001b[38;5;241m=\u001b[39m\u001b[38;5;28;01mTrue\u001b[39;00m)\n\u001b[0;32m     29\u001b[0m observations \u001b[38;5;241m=\u001b[39m obserations\u001b[38;5;241m.\u001b[39mdrop_duplicates(\u001b[38;5;124m\"\u001b[39m\u001b[38;5;124mobservation_id\u001b[39m\u001b[38;5;124m\"\u001b[39m)\n\u001b[1;32m---> 30\u001b[0m \u001b[43mobservations\u001b[49m\u001b[38;5;241;43m.\u001b[39;49m\u001b[43mto_sql\u001b[49m\u001b[43m(\u001b[49m\u001b[43mindex\u001b[49m\u001b[38;5;241;43m=\u001b[39;49m\u001b[38;5;28;43;01mFalse\u001b[39;49;00m\u001b[43m,\u001b[49m\u001b[43m \u001b[49m\u001b[43mname\u001b[49m\u001b[38;5;241;43m=\u001b[39;49m\u001b[38;5;124;43m\"\u001b[39;49m\u001b[38;5;124;43mobservation_fact\u001b[39;49m\u001b[38;5;124;43m\"\u001b[39;49m\u001b[43m,\u001b[49m\u001b[43m \u001b[49m\u001b[43mcon\u001b[49m\u001b[38;5;241;43m=\u001b[39;49m\u001b[43mengine\u001b[49m\u001b[43m,\u001b[49m\u001b[43m \u001b[49m\u001b[43mif_exists\u001b[49m\u001b[38;5;241;43m=\u001b[39;49m\u001b[38;5;124;43m\"\u001b[39;49m\u001b[38;5;124;43mappend\u001b[39;49m\u001b[38;5;124;43m\"\u001b[39;49m\u001b[43m)\u001b[49m\n",
      "File \u001b[1;32m~\\anaconda3\\envs\\ds\\lib\\site-packages\\pandas\\core\\generic.py:2987\u001b[0m, in \u001b[0;36mNDFrame.to_sql\u001b[1;34m(self, name, con, schema, if_exists, index, index_label, chunksize, dtype, method)\u001b[0m\n\u001b[0;32m   2830\u001b[0m \u001b[38;5;124;03m\"\"\"\u001b[39;00m\n\u001b[0;32m   2831\u001b[0m \u001b[38;5;124;03mWrite records stored in a DataFrame to a SQL database.\u001b[39;00m\n\u001b[0;32m   2832\u001b[0m \n\u001b[1;32m   (...)\u001b[0m\n\u001b[0;32m   2983\u001b[0m \u001b[38;5;124;03m[(1,), (None,), (2,)]\u001b[39;00m\n\u001b[0;32m   2984\u001b[0m \u001b[38;5;124;03m\"\"\"\u001b[39;00m  \u001b[38;5;66;03m# noqa:E501\u001b[39;00m\n\u001b[0;32m   2985\u001b[0m \u001b[38;5;28;01mfrom\u001b[39;00m \u001b[38;5;21;01mpandas\u001b[39;00m\u001b[38;5;21;01m.\u001b[39;00m\u001b[38;5;21;01mio\u001b[39;00m \u001b[38;5;28;01mimport\u001b[39;00m sql\n\u001b[1;32m-> 2987\u001b[0m \u001b[38;5;28;01mreturn\u001b[39;00m \u001b[43msql\u001b[49m\u001b[38;5;241;43m.\u001b[39;49m\u001b[43mto_sql\u001b[49m\u001b[43m(\u001b[49m\n\u001b[0;32m   2988\u001b[0m \u001b[43m    \u001b[49m\u001b[38;5;28;43mself\u001b[39;49m\u001b[43m,\u001b[49m\n\u001b[0;32m   2989\u001b[0m \u001b[43m    \u001b[49m\u001b[43mname\u001b[49m\u001b[43m,\u001b[49m\n\u001b[0;32m   2990\u001b[0m \u001b[43m    \u001b[49m\u001b[43mcon\u001b[49m\u001b[43m,\u001b[49m\n\u001b[0;32m   2991\u001b[0m \u001b[43m    \u001b[49m\u001b[43mschema\u001b[49m\u001b[38;5;241;43m=\u001b[39;49m\u001b[43mschema\u001b[49m\u001b[43m,\u001b[49m\n\u001b[0;32m   2992\u001b[0m \u001b[43m    \u001b[49m\u001b[43mif_exists\u001b[49m\u001b[38;5;241;43m=\u001b[39;49m\u001b[43mif_exists\u001b[49m\u001b[43m,\u001b[49m\n\u001b[0;32m   2993\u001b[0m \u001b[43m    \u001b[49m\u001b[43mindex\u001b[49m\u001b[38;5;241;43m=\u001b[39;49m\u001b[43mindex\u001b[49m\u001b[43m,\u001b[49m\n\u001b[0;32m   2994\u001b[0m \u001b[43m    \u001b[49m\u001b[43mindex_label\u001b[49m\u001b[38;5;241;43m=\u001b[39;49m\u001b[43mindex_label\u001b[49m\u001b[43m,\u001b[49m\n\u001b[0;32m   2995\u001b[0m \u001b[43m    \u001b[49m\u001b[43mchunksize\u001b[49m\u001b[38;5;241;43m=\u001b[39;49m\u001b[43mchunksize\u001b[49m\u001b[43m,\u001b[49m\n\u001b[0;32m   2996\u001b[0m \u001b[43m    \u001b[49m\u001b[43mdtype\u001b[49m\u001b[38;5;241;43m=\u001b[39;49m\u001b[43mdtype\u001b[49m\u001b[43m,\u001b[49m\n\u001b[0;32m   2997\u001b[0m \u001b[43m    \u001b[49m\u001b[43mmethod\u001b[49m\u001b[38;5;241;43m=\u001b[39;49m\u001b[43mmethod\u001b[49m\u001b[43m,\u001b[49m\n\u001b[0;32m   2998\u001b[0m \u001b[43m\u001b[49m\u001b[43m)\u001b[49m\n",
      "File \u001b[1;32m~\\anaconda3\\envs\\ds\\lib\\site-packages\\pandas\\io\\sql.py:695\u001b[0m, in \u001b[0;36mto_sql\u001b[1;34m(frame, name, con, schema, if_exists, index, index_label, chunksize, dtype, method, engine, **engine_kwargs)\u001b[0m\n\u001b[0;32m    690\u001b[0m \u001b[38;5;28;01melif\u001b[39;00m \u001b[38;5;129;01mnot\u001b[39;00m \u001b[38;5;28misinstance\u001b[39m(frame, DataFrame):\n\u001b[0;32m    691\u001b[0m     \u001b[38;5;28;01mraise\u001b[39;00m \u001b[38;5;167;01mNotImplementedError\u001b[39;00m(\n\u001b[0;32m    692\u001b[0m         \u001b[38;5;124m\"\u001b[39m\u001b[38;5;124m'\u001b[39m\u001b[38;5;124mframe\u001b[39m\u001b[38;5;124m'\u001b[39m\u001b[38;5;124m argument should be either a Series or a DataFrame\u001b[39m\u001b[38;5;124m\"\u001b[39m\n\u001b[0;32m    693\u001b[0m     )\n\u001b[1;32m--> 695\u001b[0m \u001b[38;5;28;01mreturn\u001b[39;00m pandas_sql\u001b[38;5;241m.\u001b[39mto_sql(\n\u001b[0;32m    696\u001b[0m     frame,\n\u001b[0;32m    697\u001b[0m     name,\n\u001b[0;32m    698\u001b[0m     if_exists\u001b[38;5;241m=\u001b[39mif_exists,\n\u001b[0;32m    699\u001b[0m     index\u001b[38;5;241m=\u001b[39mindex,\n\u001b[0;32m    700\u001b[0m     index_label\u001b[38;5;241m=\u001b[39mindex_label,\n\u001b[0;32m    701\u001b[0m     schema\u001b[38;5;241m=\u001b[39mschema,\n\u001b[0;32m    702\u001b[0m     chunksize\u001b[38;5;241m=\u001b[39mchunksize,\n\u001b[0;32m    703\u001b[0m     dtype\u001b[38;5;241m=\u001b[39mdtype,\n\u001b[0;32m    704\u001b[0m     method\u001b[38;5;241m=\u001b[39mmethod,\n\u001b[0;32m    705\u001b[0m     engine\u001b[38;5;241m=\u001b[39mengine,\n\u001b[0;32m    706\u001b[0m     \u001b[38;5;241m*\u001b[39m\u001b[38;5;241m*\u001b[39mengine_kwargs,\n\u001b[0;32m    707\u001b[0m )\n",
      "File \u001b[1;32m~\\anaconda3\\envs\\ds\\lib\\site-packages\\pandas\\io\\sql.py:1738\u001b[0m, in \u001b[0;36mSQLDatabase.to_sql\u001b[1;34m(self, frame, name, if_exists, index, index_label, schema, chunksize, dtype, method, engine, **engine_kwargs)\u001b[0m\n\u001b[0;32m   1726\u001b[0m sql_engine \u001b[38;5;241m=\u001b[39m get_engine(engine)\n\u001b[0;32m   1728\u001b[0m table \u001b[38;5;241m=\u001b[39m \u001b[38;5;28mself\u001b[39m\u001b[38;5;241m.\u001b[39mprep_table(\n\u001b[0;32m   1729\u001b[0m     frame\u001b[38;5;241m=\u001b[39mframe,\n\u001b[0;32m   1730\u001b[0m     name\u001b[38;5;241m=\u001b[39mname,\n\u001b[1;32m   (...)\u001b[0m\n\u001b[0;32m   1735\u001b[0m     dtype\u001b[38;5;241m=\u001b[39mdtype,\n\u001b[0;32m   1736\u001b[0m )\n\u001b[1;32m-> 1738\u001b[0m total_inserted \u001b[38;5;241m=\u001b[39m sql_engine\u001b[38;5;241m.\u001b[39minsert_records(\n\u001b[0;32m   1739\u001b[0m     table\u001b[38;5;241m=\u001b[39mtable,\n\u001b[0;32m   1740\u001b[0m     con\u001b[38;5;241m=\u001b[39m\u001b[38;5;28mself\u001b[39m\u001b[38;5;241m.\u001b[39mconnectable,\n\u001b[0;32m   1741\u001b[0m     frame\u001b[38;5;241m=\u001b[39mframe,\n\u001b[0;32m   1742\u001b[0m     name\u001b[38;5;241m=\u001b[39mname,\n\u001b[0;32m   1743\u001b[0m     index\u001b[38;5;241m=\u001b[39mindex,\n\u001b[0;32m   1744\u001b[0m     schema\u001b[38;5;241m=\u001b[39mschema,\n\u001b[0;32m   1745\u001b[0m     chunksize\u001b[38;5;241m=\u001b[39mchunksize,\n\u001b[0;32m   1746\u001b[0m     method\u001b[38;5;241m=\u001b[39mmethod,\n\u001b[0;32m   1747\u001b[0m     \u001b[38;5;241m*\u001b[39m\u001b[38;5;241m*\u001b[39mengine_kwargs,\n\u001b[0;32m   1748\u001b[0m )\n\u001b[0;32m   1750\u001b[0m \u001b[38;5;28mself\u001b[39m\u001b[38;5;241m.\u001b[39mcheck_case_sensitive(name\u001b[38;5;241m=\u001b[39mname, schema\u001b[38;5;241m=\u001b[39mschema)\n\u001b[0;32m   1751\u001b[0m \u001b[38;5;28;01mreturn\u001b[39;00m total_inserted\n",
      "File \u001b[1;32m~\\anaconda3\\envs\\ds\\lib\\site-packages\\pandas\\io\\sql.py:1335\u001b[0m, in \u001b[0;36mSQLAlchemyEngine.insert_records\u001b[1;34m(self, table, con, frame, name, index, schema, chunksize, method, **engine_kwargs)\u001b[0m\n\u001b[0;32m   1333\u001b[0m     \u001b[38;5;28;01mraise\u001b[39;00m \u001b[38;5;167;01mValueError\u001b[39;00m(\u001b[38;5;124m\"\u001b[39m\u001b[38;5;124minf cannot be used with MySQL\u001b[39m\u001b[38;5;124m\"\u001b[39m) \u001b[38;5;28;01mfrom\u001b[39;00m \u001b[38;5;21;01merr\u001b[39;00m\n\u001b[0;32m   1334\u001b[0m \u001b[38;5;28;01melse\u001b[39;00m:\n\u001b[1;32m-> 1335\u001b[0m     \u001b[38;5;28;01mraise\u001b[39;00m err\n",
      "File \u001b[1;32m~\\anaconda3\\envs\\ds\\lib\\site-packages\\pandas\\io\\sql.py:1325\u001b[0m, in \u001b[0;36mSQLAlchemyEngine.insert_records\u001b[1;34m(self, table, con, frame, name, index, schema, chunksize, method, **engine_kwargs)\u001b[0m\n\u001b[0;32m   1322\u001b[0m \u001b[38;5;28;01mfrom\u001b[39;00m \u001b[38;5;21;01msqlalchemy\u001b[39;00m \u001b[38;5;28;01mimport\u001b[39;00m exc\n\u001b[0;32m   1324\u001b[0m \u001b[38;5;28;01mtry\u001b[39;00m:\n\u001b[1;32m-> 1325\u001b[0m     \u001b[38;5;28;01mreturn\u001b[39;00m \u001b[43mtable\u001b[49m\u001b[38;5;241;43m.\u001b[39;49m\u001b[43minsert\u001b[49m\u001b[43m(\u001b[49m\u001b[43mchunksize\u001b[49m\u001b[38;5;241;43m=\u001b[39;49m\u001b[43mchunksize\u001b[49m\u001b[43m,\u001b[49m\u001b[43m \u001b[49m\u001b[43mmethod\u001b[49m\u001b[38;5;241;43m=\u001b[39;49m\u001b[43mmethod\u001b[49m\u001b[43m)\u001b[49m\n\u001b[0;32m   1326\u001b[0m \u001b[38;5;28;01mexcept\u001b[39;00m exc\u001b[38;5;241m.\u001b[39mSQLAlchemyError \u001b[38;5;28;01mas\u001b[39;00m err:\n\u001b[0;32m   1327\u001b[0m     \u001b[38;5;66;03m# GH34431\u001b[39;00m\n\u001b[0;32m   1328\u001b[0m     \u001b[38;5;66;03m# https://stackoverflow.com/a/67358288/6067848\u001b[39;00m\n\u001b[0;32m   1329\u001b[0m     msg \u001b[38;5;241m=\u001b[39m \u001b[38;5;124mr\u001b[39m\u001b[38;5;124m\"\"\"\u001b[39m\u001b[38;5;124m(\u001b[39m\u001b[38;5;124m\\\u001b[39m\u001b[38;5;124m(1054, \u001b[39m\u001b[38;5;124m\"\u001b[39m\u001b[38;5;124mUnknown column \u001b[39m\u001b[38;5;124m'\u001b[39m\u001b[38;5;124minf(e0)?\u001b[39m\u001b[38;5;124m'\u001b[39m\u001b[38;5;124m in \u001b[39m\u001b[38;5;124m'\u001b[39m\u001b[38;5;124mfield list\u001b[39m\u001b[38;5;124m'\u001b[39m\u001b[38;5;124m\"\u001b[39m\u001b[38;5;124m\\\u001b[39m\u001b[38;5;124m))(?#\u001b[39m\n\u001b[0;32m   1330\u001b[0m \u001b[38;5;124m    )|inf can not be used with MySQL\u001b[39m\u001b[38;5;124m\"\"\"\u001b[39m\n",
      "File \u001b[1;32m~\\anaconda3\\envs\\ds\\lib\\site-packages\\pandas\\io\\sql.py:946\u001b[0m, in \u001b[0;36mSQLTable.insert\u001b[1;34m(self, chunksize, method)\u001b[0m\n\u001b[0;32m    943\u001b[0m     \u001b[38;5;28;01mbreak\u001b[39;00m\n\u001b[0;32m    945\u001b[0m chunk_iter \u001b[38;5;241m=\u001b[39m \u001b[38;5;28mzip\u001b[39m(\u001b[38;5;241m*\u001b[39m(arr[start_i:end_i] \u001b[38;5;28;01mfor\u001b[39;00m arr \u001b[38;5;129;01min\u001b[39;00m data_list))\n\u001b[1;32m--> 946\u001b[0m num_inserted \u001b[38;5;241m=\u001b[39m \u001b[43mexec_insert\u001b[49m\u001b[43m(\u001b[49m\u001b[43mconn\u001b[49m\u001b[43m,\u001b[49m\u001b[43m \u001b[49m\u001b[43mkeys\u001b[49m\u001b[43m,\u001b[49m\u001b[43m \u001b[49m\u001b[43mchunk_iter\u001b[49m\u001b[43m)\u001b[49m\n\u001b[0;32m    947\u001b[0m \u001b[38;5;66;03m# GH 46891\u001b[39;00m\n\u001b[0;32m    948\u001b[0m \u001b[38;5;28;01mif\u001b[39;00m is_integer(num_inserted):\n",
      "File \u001b[1;32m~\\anaconda3\\envs\\ds\\lib\\site-packages\\pandas\\io\\sql.py:853\u001b[0m, in \u001b[0;36mSQLTable._execute_insert\u001b[1;34m(self, conn, keys, data_iter)\u001b[0m\n\u001b[0;32m    841\u001b[0m \u001b[38;5;124;03m\"\"\"\u001b[39;00m\n\u001b[0;32m    842\u001b[0m \u001b[38;5;124;03mExecute SQL statement inserting data\u001b[39;00m\n\u001b[0;32m    843\u001b[0m \n\u001b[1;32m   (...)\u001b[0m\n\u001b[0;32m    850\u001b[0m \u001b[38;5;124;03m   Each item contains a list of values to be inserted\u001b[39;00m\n\u001b[0;32m    851\u001b[0m \u001b[38;5;124;03m\"\"\"\u001b[39;00m\n\u001b[0;32m    852\u001b[0m data \u001b[38;5;241m=\u001b[39m [\u001b[38;5;28mdict\u001b[39m(\u001b[38;5;28mzip\u001b[39m(keys, row)) \u001b[38;5;28;01mfor\u001b[39;00m row \u001b[38;5;129;01min\u001b[39;00m data_iter]\n\u001b[1;32m--> 853\u001b[0m result \u001b[38;5;241m=\u001b[39m \u001b[43mconn\u001b[49m\u001b[38;5;241;43m.\u001b[39;49m\u001b[43mexecute\u001b[49m\u001b[43m(\u001b[49m\u001b[38;5;28;43mself\u001b[39;49m\u001b[38;5;241;43m.\u001b[39;49m\u001b[43mtable\u001b[49m\u001b[38;5;241;43m.\u001b[39;49m\u001b[43minsert\u001b[49m\u001b[43m(\u001b[49m\u001b[43m)\u001b[49m\u001b[43m,\u001b[49m\u001b[43m \u001b[49m\u001b[43mdata\u001b[49m\u001b[43m)\u001b[49m\n\u001b[0;32m    854\u001b[0m \u001b[38;5;28;01mreturn\u001b[39;00m result\u001b[38;5;241m.\u001b[39mrowcount\n",
      "File \u001b[1;32m~\\anaconda3\\envs\\ds\\lib\\site-packages\\sqlalchemy\\engine\\base.py:1380\u001b[0m, in \u001b[0;36mConnection.execute\u001b[1;34m(self, statement, *multiparams, **params)\u001b[0m\n\u001b[0;32m   1376\u001b[0m     util\u001b[38;5;241m.\u001b[39mraise_(\n\u001b[0;32m   1377\u001b[0m         exc\u001b[38;5;241m.\u001b[39mObjectNotExecutableError(statement), replace_context\u001b[38;5;241m=\u001b[39merr\n\u001b[0;32m   1378\u001b[0m     )\n\u001b[0;32m   1379\u001b[0m \u001b[38;5;28;01melse\u001b[39;00m:\n\u001b[1;32m-> 1380\u001b[0m     \u001b[38;5;28;01mreturn\u001b[39;00m \u001b[43mmeth\u001b[49m\u001b[43m(\u001b[49m\u001b[38;5;28;43mself\u001b[39;49m\u001b[43m,\u001b[49m\u001b[43m \u001b[49m\u001b[43mmultiparams\u001b[49m\u001b[43m,\u001b[49m\u001b[43m \u001b[49m\u001b[43mparams\u001b[49m\u001b[43m,\u001b[49m\u001b[43m \u001b[49m\u001b[43m_EMPTY_EXECUTION_OPTS\u001b[49m\u001b[43m)\u001b[49m\n",
      "File \u001b[1;32m~\\anaconda3\\envs\\ds\\lib\\site-packages\\sqlalchemy\\sql\\elements.py:334\u001b[0m, in \u001b[0;36mClauseElement._execute_on_connection\u001b[1;34m(self, connection, multiparams, params, execution_options, _force)\u001b[0m\n\u001b[0;32m    330\u001b[0m \u001b[38;5;28;01mdef\u001b[39;00m \u001b[38;5;21m_execute_on_connection\u001b[39m(\n\u001b[0;32m    331\u001b[0m     \u001b[38;5;28mself\u001b[39m, connection, multiparams, params, execution_options, _force\u001b[38;5;241m=\u001b[39m\u001b[38;5;28;01mFalse\u001b[39;00m\n\u001b[0;32m    332\u001b[0m ):\n\u001b[0;32m    333\u001b[0m     \u001b[38;5;28;01mif\u001b[39;00m _force \u001b[38;5;129;01mor\u001b[39;00m \u001b[38;5;28mself\u001b[39m\u001b[38;5;241m.\u001b[39msupports_execution:\n\u001b[1;32m--> 334\u001b[0m         \u001b[38;5;28;01mreturn\u001b[39;00m \u001b[43mconnection\u001b[49m\u001b[38;5;241;43m.\u001b[39;49m\u001b[43m_execute_clauseelement\u001b[49m\u001b[43m(\u001b[49m\n\u001b[0;32m    335\u001b[0m \u001b[43m            \u001b[49m\u001b[38;5;28;43mself\u001b[39;49m\u001b[43m,\u001b[49m\u001b[43m \u001b[49m\u001b[43mmultiparams\u001b[49m\u001b[43m,\u001b[49m\u001b[43m \u001b[49m\u001b[43mparams\u001b[49m\u001b[43m,\u001b[49m\u001b[43m \u001b[49m\u001b[43mexecution_options\u001b[49m\n\u001b[0;32m    336\u001b[0m \u001b[43m        \u001b[49m\u001b[43m)\u001b[49m\n\u001b[0;32m    337\u001b[0m     \u001b[38;5;28;01melse\u001b[39;00m:\n\u001b[0;32m    338\u001b[0m         \u001b[38;5;28;01mraise\u001b[39;00m exc\u001b[38;5;241m.\u001b[39mObjectNotExecutableError(\u001b[38;5;28mself\u001b[39m)\n",
      "File \u001b[1;32m~\\anaconda3\\envs\\ds\\lib\\site-packages\\sqlalchemy\\engine\\base.py:1572\u001b[0m, in \u001b[0;36mConnection._execute_clauseelement\u001b[1;34m(self, elem, multiparams, params, execution_options)\u001b[0m\n\u001b[0;32m   1560\u001b[0m compiled_cache \u001b[38;5;241m=\u001b[39m execution_options\u001b[38;5;241m.\u001b[39mget(\n\u001b[0;32m   1561\u001b[0m     \u001b[38;5;124m\"\u001b[39m\u001b[38;5;124mcompiled_cache\u001b[39m\u001b[38;5;124m\"\u001b[39m, \u001b[38;5;28mself\u001b[39m\u001b[38;5;241m.\u001b[39mengine\u001b[38;5;241m.\u001b[39m_compiled_cache\n\u001b[0;32m   1562\u001b[0m )\n\u001b[0;32m   1564\u001b[0m compiled_sql, extracted_params, cache_hit \u001b[38;5;241m=\u001b[39m elem\u001b[38;5;241m.\u001b[39m_compile_w_cache(\n\u001b[0;32m   1565\u001b[0m     dialect\u001b[38;5;241m=\u001b[39mdialect,\n\u001b[0;32m   1566\u001b[0m     compiled_cache\u001b[38;5;241m=\u001b[39mcompiled_cache,\n\u001b[1;32m   (...)\u001b[0m\n\u001b[0;32m   1570\u001b[0m     linting\u001b[38;5;241m=\u001b[39m\u001b[38;5;28mself\u001b[39m\u001b[38;5;241m.\u001b[39mdialect\u001b[38;5;241m.\u001b[39mcompiler_linting \u001b[38;5;241m|\u001b[39m compiler\u001b[38;5;241m.\u001b[39mWARN_LINTING,\n\u001b[0;32m   1571\u001b[0m )\n\u001b[1;32m-> 1572\u001b[0m ret \u001b[38;5;241m=\u001b[39m \u001b[38;5;28;43mself\u001b[39;49m\u001b[38;5;241;43m.\u001b[39;49m\u001b[43m_execute_context\u001b[49m\u001b[43m(\u001b[49m\n\u001b[0;32m   1573\u001b[0m \u001b[43m    \u001b[49m\u001b[43mdialect\u001b[49m\u001b[43m,\u001b[49m\n\u001b[0;32m   1574\u001b[0m \u001b[43m    \u001b[49m\u001b[43mdialect\u001b[49m\u001b[38;5;241;43m.\u001b[39;49m\u001b[43mexecution_ctx_cls\u001b[49m\u001b[38;5;241;43m.\u001b[39;49m\u001b[43m_init_compiled\u001b[49m\u001b[43m,\u001b[49m\n\u001b[0;32m   1575\u001b[0m \u001b[43m    \u001b[49m\u001b[43mcompiled_sql\u001b[49m\u001b[43m,\u001b[49m\n\u001b[0;32m   1576\u001b[0m \u001b[43m    \u001b[49m\u001b[43mdistilled_params\u001b[49m\u001b[43m,\u001b[49m\n\u001b[0;32m   1577\u001b[0m \u001b[43m    \u001b[49m\u001b[43mexecution_options\u001b[49m\u001b[43m,\u001b[49m\n\u001b[0;32m   1578\u001b[0m \u001b[43m    \u001b[49m\u001b[43mcompiled_sql\u001b[49m\u001b[43m,\u001b[49m\n\u001b[0;32m   1579\u001b[0m \u001b[43m    \u001b[49m\u001b[43mdistilled_params\u001b[49m\u001b[43m,\u001b[49m\n\u001b[0;32m   1580\u001b[0m \u001b[43m    \u001b[49m\u001b[43melem\u001b[49m\u001b[43m,\u001b[49m\n\u001b[0;32m   1581\u001b[0m \u001b[43m    \u001b[49m\u001b[43mextracted_params\u001b[49m\u001b[43m,\u001b[49m\n\u001b[0;32m   1582\u001b[0m \u001b[43m    \u001b[49m\u001b[43mcache_hit\u001b[49m\u001b[38;5;241;43m=\u001b[39;49m\u001b[43mcache_hit\u001b[49m\u001b[43m,\u001b[49m\n\u001b[0;32m   1583\u001b[0m \u001b[43m\u001b[49m\u001b[43m)\u001b[49m\n\u001b[0;32m   1584\u001b[0m \u001b[38;5;28;01mif\u001b[39;00m has_events:\n\u001b[0;32m   1585\u001b[0m     \u001b[38;5;28mself\u001b[39m\u001b[38;5;241m.\u001b[39mdispatch\u001b[38;5;241m.\u001b[39mafter_execute(\n\u001b[0;32m   1586\u001b[0m         \u001b[38;5;28mself\u001b[39m,\n\u001b[0;32m   1587\u001b[0m         elem,\n\u001b[1;32m   (...)\u001b[0m\n\u001b[0;32m   1591\u001b[0m         ret,\n\u001b[0;32m   1592\u001b[0m     )\n",
      "File \u001b[1;32m~\\anaconda3\\envs\\ds\\lib\\site-packages\\sqlalchemy\\engine\\base.py:1943\u001b[0m, in \u001b[0;36mConnection._execute_context\u001b[1;34m(self, dialect, constructor, statement, parameters, execution_options, *args, **kw)\u001b[0m\n\u001b[0;32m   1940\u001b[0m             branched\u001b[38;5;241m.\u001b[39mclose()\n\u001b[0;32m   1942\u001b[0m \u001b[38;5;28;01mexcept\u001b[39;00m \u001b[38;5;167;01mBaseException\u001b[39;00m \u001b[38;5;28;01mas\u001b[39;00m e:\n\u001b[1;32m-> 1943\u001b[0m     \u001b[38;5;28;43mself\u001b[39;49m\u001b[38;5;241;43m.\u001b[39;49m\u001b[43m_handle_dbapi_exception\u001b[49m\u001b[43m(\u001b[49m\n\u001b[0;32m   1944\u001b[0m \u001b[43m        \u001b[49m\u001b[43me\u001b[49m\u001b[43m,\u001b[49m\u001b[43m \u001b[49m\u001b[43mstatement\u001b[49m\u001b[43m,\u001b[49m\u001b[43m \u001b[49m\u001b[43mparameters\u001b[49m\u001b[43m,\u001b[49m\u001b[43m \u001b[49m\u001b[43mcursor\u001b[49m\u001b[43m,\u001b[49m\u001b[43m \u001b[49m\u001b[43mcontext\u001b[49m\n\u001b[0;32m   1945\u001b[0m \u001b[43m    \u001b[49m\u001b[43m)\u001b[49m\n\u001b[0;32m   1947\u001b[0m \u001b[38;5;28;01mreturn\u001b[39;00m result\n",
      "File \u001b[1;32m~\\anaconda3\\envs\\ds\\lib\\site-packages\\sqlalchemy\\engine\\base.py:2124\u001b[0m, in \u001b[0;36mConnection._handle_dbapi_exception\u001b[1;34m(self, e, statement, parameters, cursor, context)\u001b[0m\n\u001b[0;32m   2122\u001b[0m     util\u001b[38;5;241m.\u001b[39mraise_(newraise, with_traceback\u001b[38;5;241m=\u001b[39mexc_info[\u001b[38;5;241m2\u001b[39m], from_\u001b[38;5;241m=\u001b[39me)\n\u001b[0;32m   2123\u001b[0m \u001b[38;5;28;01melif\u001b[39;00m should_wrap:\n\u001b[1;32m-> 2124\u001b[0m     \u001b[43mutil\u001b[49m\u001b[38;5;241;43m.\u001b[39;49m\u001b[43mraise_\u001b[49m\u001b[43m(\u001b[49m\n\u001b[0;32m   2125\u001b[0m \u001b[43m        \u001b[49m\u001b[43msqlalchemy_exception\u001b[49m\u001b[43m,\u001b[49m\u001b[43m \u001b[49m\u001b[43mwith_traceback\u001b[49m\u001b[38;5;241;43m=\u001b[39;49m\u001b[43mexc_info\u001b[49m\u001b[43m[\u001b[49m\u001b[38;5;241;43m2\u001b[39;49m\u001b[43m]\u001b[49m\u001b[43m,\u001b[49m\u001b[43m \u001b[49m\u001b[43mfrom_\u001b[49m\u001b[38;5;241;43m=\u001b[39;49m\u001b[43me\u001b[49m\n\u001b[0;32m   2126\u001b[0m \u001b[43m    \u001b[49m\u001b[43m)\u001b[49m\n\u001b[0;32m   2127\u001b[0m \u001b[38;5;28;01melse\u001b[39;00m:\n\u001b[0;32m   2128\u001b[0m     util\u001b[38;5;241m.\u001b[39mraise_(exc_info[\u001b[38;5;241m1\u001b[39m], with_traceback\u001b[38;5;241m=\u001b[39mexc_info[\u001b[38;5;241m2\u001b[39m])\n",
      "File \u001b[1;32m~\\anaconda3\\envs\\ds\\lib\\site-packages\\sqlalchemy\\util\\compat.py:210\u001b[0m, in \u001b[0;36mraise_\u001b[1;34m(***failed resolving arguments***)\u001b[0m\n\u001b[0;32m    207\u001b[0m     exception\u001b[38;5;241m.\u001b[39m__cause__ \u001b[38;5;241m=\u001b[39m replace_context\n\u001b[0;32m    209\u001b[0m \u001b[38;5;28;01mtry\u001b[39;00m:\n\u001b[1;32m--> 210\u001b[0m     \u001b[38;5;28;01mraise\u001b[39;00m exception\n\u001b[0;32m    211\u001b[0m \u001b[38;5;28;01mfinally\u001b[39;00m:\n\u001b[0;32m    212\u001b[0m     \u001b[38;5;66;03m# credit to\u001b[39;00m\n\u001b[0;32m    213\u001b[0m     \u001b[38;5;66;03m# https://cosmicpercolator.com/2016/01/13/exception-leaks-in-python-2-and-3/\u001b[39;00m\n\u001b[0;32m    214\u001b[0m     \u001b[38;5;66;03m# as the __traceback__ object creates a cycle\u001b[39;00m\n\u001b[0;32m    215\u001b[0m     \u001b[38;5;28;01mdel\u001b[39;00m exception, replace_context, from_, with_traceback\n",
      "File \u001b[1;32m~\\anaconda3\\envs\\ds\\lib\\site-packages\\sqlalchemy\\engine\\base.py:1880\u001b[0m, in \u001b[0;36mConnection._execute_context\u001b[1;34m(self, dialect, constructor, statement, parameters, execution_options, *args, **kw)\u001b[0m\n\u001b[0;32m   1878\u001b[0m                 \u001b[38;5;28;01mbreak\u001b[39;00m\n\u001b[0;32m   1879\u001b[0m     \u001b[38;5;28;01mif\u001b[39;00m \u001b[38;5;129;01mnot\u001b[39;00m evt_handled:\n\u001b[1;32m-> 1880\u001b[0m         \u001b[38;5;28;43mself\u001b[39;49m\u001b[38;5;241;43m.\u001b[39;49m\u001b[43mdialect\u001b[49m\u001b[38;5;241;43m.\u001b[39;49m\u001b[43mdo_executemany\u001b[49m\u001b[43m(\u001b[49m\n\u001b[0;32m   1881\u001b[0m \u001b[43m            \u001b[49m\u001b[43mcursor\u001b[49m\u001b[43m,\u001b[49m\u001b[43m \u001b[49m\u001b[43mstatement\u001b[49m\u001b[43m,\u001b[49m\u001b[43m \u001b[49m\u001b[43mparameters\u001b[49m\u001b[43m,\u001b[49m\u001b[43m \u001b[49m\u001b[43mcontext\u001b[49m\n\u001b[0;32m   1882\u001b[0m \u001b[43m        \u001b[49m\u001b[43m)\u001b[49m\n\u001b[0;32m   1883\u001b[0m \u001b[38;5;28;01melif\u001b[39;00m \u001b[38;5;129;01mnot\u001b[39;00m parameters \u001b[38;5;129;01mand\u001b[39;00m context\u001b[38;5;241m.\u001b[39mno_parameters:\n\u001b[0;32m   1884\u001b[0m     \u001b[38;5;28;01mif\u001b[39;00m \u001b[38;5;28mself\u001b[39m\u001b[38;5;241m.\u001b[39mdialect\u001b[38;5;241m.\u001b[39m_has_events:\n",
      "File \u001b[1;32m~\\anaconda3\\envs\\ds\\lib\\site-packages\\sqlalchemy\\dialects\\postgresql\\psycopg2.py:982\u001b[0m, in \u001b[0;36mPGDialect_psycopg2.do_executemany\u001b[1;34m(self, cursor, statement, parameters, context)\u001b[0m\n\u001b[0;32m    980\u001b[0m         kwargs \u001b[38;5;241m=\u001b[39m {}\n\u001b[0;32m    981\u001b[0m     xtras \u001b[38;5;241m=\u001b[39m \u001b[38;5;28mself\u001b[39m\u001b[38;5;241m.\u001b[39m_psycopg2_extras()\n\u001b[1;32m--> 982\u001b[0m     context\u001b[38;5;241m.\u001b[39m_psycopg2_fetched_rows \u001b[38;5;241m=\u001b[39m xtras\u001b[38;5;241m.\u001b[39mexecute_values(\n\u001b[0;32m    983\u001b[0m         cursor,\n\u001b[0;32m    984\u001b[0m         statement,\n\u001b[0;32m    985\u001b[0m         parameters,\n\u001b[0;32m    986\u001b[0m         template\u001b[38;5;241m=\u001b[39mexecutemany_values,\n\u001b[0;32m    987\u001b[0m         fetch\u001b[38;5;241m=\u001b[39m\u001b[38;5;28mbool\u001b[39m(context\u001b[38;5;241m.\u001b[39mcompiled\u001b[38;5;241m.\u001b[39mreturning),\n\u001b[0;32m    988\u001b[0m         \u001b[38;5;241m*\u001b[39m\u001b[38;5;241m*\u001b[39mkwargs\n\u001b[0;32m    989\u001b[0m     )\n\u001b[0;32m    991\u001b[0m \u001b[38;5;28;01melif\u001b[39;00m \u001b[38;5;28mself\u001b[39m\u001b[38;5;241m.\u001b[39mexecutemany_mode \u001b[38;5;241m&\u001b[39m EXECUTEMANY_BATCH:\n\u001b[0;32m    992\u001b[0m     \u001b[38;5;28;01mif\u001b[39;00m \u001b[38;5;28mself\u001b[39m\u001b[38;5;241m.\u001b[39mexecutemany_batch_page_size:\n",
      "File \u001b[1;32m~\\anaconda3\\envs\\ds\\lib\\site-packages\\psycopg2\\extras.py:1270\u001b[0m, in \u001b[0;36mexecute_values\u001b[1;34m(cur, sql, argslist, template, page_size, fetch)\u001b[0m\n\u001b[0;32m   1268\u001b[0m     parts\u001b[38;5;241m.\u001b[39mappend(\u001b[38;5;124mb\u001b[39m\u001b[38;5;124m'\u001b[39m\u001b[38;5;124m,\u001b[39m\u001b[38;5;124m'\u001b[39m)\n\u001b[0;32m   1269\u001b[0m parts[\u001b[38;5;241m-\u001b[39m\u001b[38;5;241m1\u001b[39m:] \u001b[38;5;241m=\u001b[39m post\n\u001b[1;32m-> 1270\u001b[0m \u001b[43mcur\u001b[49m\u001b[38;5;241;43m.\u001b[39;49m\u001b[43mexecute\u001b[49m\u001b[43m(\u001b[49m\u001b[38;5;124;43mb\u001b[39;49m\u001b[38;5;124;43m'\u001b[39;49m\u001b[38;5;124;43m'\u001b[39;49m\u001b[38;5;241;43m.\u001b[39;49m\u001b[43mjoin\u001b[49m\u001b[43m(\u001b[49m\u001b[43mparts\u001b[49m\u001b[43m)\u001b[49m\u001b[43m)\u001b[49m\n\u001b[0;32m   1271\u001b[0m \u001b[38;5;28;01mif\u001b[39;00m fetch:\n\u001b[0;32m   1272\u001b[0m     result\u001b[38;5;241m.\u001b[39mextend(cur\u001b[38;5;241m.\u001b[39mfetchall())\n",
      "\u001b[1;31mIntegrityError\u001b[0m: (psycopg2.errors.ForeignKeyViolation) insert or update on table \"observation_fact\" violates foreign key constraint \"observation_fact_concept_cd_fkey\"\nDETAIL:  Key (concept_cd)=(LOINC:DALY) is not present in table \"concept_dimension\".\n\n[SQL: INSERT INTO observation_fact (start_date, patient_num, encounter_num, concept_cd, valtype_cd, unit, observation_id, nval_num, tval_char) VALUES (%(start_date)s, %(patient_num)s, %(encounter_num)s, %(concept_cd)s, %(valtype_cd)s, %(unit)s, %(observation_id)s, %(nval_num)s, %(tval_char)s)]\n[parameters: ({'start_date': datetime.datetime(2012, 1, 23, 17, 45, 28), 'patient_num': '034e9e3b-2def-4559-bb2a-7850888ae060', 'encounter_num': 'e88bc3a9-007c-405e-aabc-792a38f4aa2b', 'concept_cd': 'LOINC:8302-2', 'valtype_cd': 'N', 'unit': 'cm', 'observation_id': '034e9e3b-2def-4559-bb2a-7850888ae060e88bc3a9-007c-405e-aabc-792a38f4aa2bLOINC:8302-22012-01-23 17:45:28', 'nval_num': 193.3, 'tval_char': None}, {'start_date': datetime.datetime(2012, 1, 23, 17, 45, 28), 'patient_num': '034e9e3b-2def-4559-bb2a-7850888ae060', 'encounter_num': 'e88bc3a9-007c-405e-aabc-792a38f4aa2b', 'concept_cd': 'LOINC:72514-3', 'valtype_cd': 'N', 'unit': '{score}', 'observation_id': '034e9e3b-2def-4559-bb2a-7850888ae060e88bc3a9-007c-405e-aabc-792a38f4aa2bLOINC:72514-32012-01-23 17:45:28', 'nval_num': 2.0, 'tval_char': None}, {'start_date': datetime.datetime(2012, 1, 23, 17, 45, 28), 'patient_num': '034e9e3b-2def-4559-bb2a-7850888ae060', 'encounter_num': 'e88bc3a9-007c-405e-aabc-792a38f4aa2b', 'concept_cd': 'LOINC:29463-7', 'valtype_cd': 'N', 'unit': 'kg', 'observation_id': '034e9e3b-2def-4559-bb2a-7850888ae060e88bc3a9-007c-405e-aabc-792a38f4aa2bLOINC:29463-72012-01-23 17:45:28', 'nval_num': 87.8, 'tval_char': None}, {'start_date': datetime.datetime(2012, 1, 23, 17, 45, 28), 'patient_num': '034e9e3b-2def-4559-bb2a-7850888ae060', 'encounter_num': 'e88bc3a9-007c-405e-aabc-792a38f4aa2b', 'concept_cd': 'LOINC:39156-5', 'valtype_cd': 'N', 'unit': 'kg/m2', 'observation_id': '034e9e3b-2def-4559-bb2a-7850888ae060e88bc3a9-007c-405e-aabc-792a38f4aa2bLOINC:39156-52012-01-23 17:45:28', 'nval_num': 23.5, 'tval_char': None}, {'start_date': datetime.datetime(2012, 1, 23, 17, 45, 28), 'patient_num': '034e9e3b-2def-4559-bb2a-7850888ae060', 'encounter_num': 'e88bc3a9-007c-405e-aabc-792a38f4aa2b', 'concept_cd': 'LOINC:8462-4', 'valtype_cd': 'N', 'unit': 'mm[Hg]', 'observation_id': '034e9e3b-2def-4559-bb2a-7850888ae060e88bc3a9-007c-405e-aabc-792a38f4aa2bLOINC:8462-42012-01-23 17:45:28', 'nval_num': 82.0, 'tval_char': None}, {'start_date': datetime.datetime(2012, 1, 23, 17, 45, 28), 'patient_num': '034e9e3b-2def-4559-bb2a-7850888ae060', 'encounter_num': 'e88bc3a9-007c-405e-aabc-792a38f4aa2b', 'concept_cd': 'LOINC:8480-6', 'valtype_cd': 'N', 'unit': 'mm[Hg]', 'observation_id': '034e9e3b-2def-4559-bb2a-7850888ae060e88bc3a9-007c-405e-aabc-792a38f4aa2bLOINC:8480-62012-01-23 17:45:28', 'nval_num': 119.0, 'tval_char': None}, {'start_date': datetime.datetime(2012, 1, 23, 17, 45, 28), 'patient_num': '034e9e3b-2def-4559-bb2a-7850888ae060', 'encounter_num': 'e88bc3a9-007c-405e-aabc-792a38f4aa2b', 'concept_cd': 'LOINC:8867-4', 'valtype_cd': 'N', 'unit': '/min', 'observation_id': '034e9e3b-2def-4559-bb2a-7850888ae060e88bc3a9-007c-405e-aabc-792a38f4aa2bLOINC:8867-42012-01-23 17:45:28', 'nval_num': 77.0, 'tval_char': None}, {'start_date': datetime.datetime(2012, 1, 23, 17, 45, 28), 'patient_num': '034e9e3b-2def-4559-bb2a-7850888ae060', 'encounter_num': 'e88bc3a9-007c-405e-aabc-792a38f4aa2b', 'concept_cd': 'LOINC:9279-1', 'valtype_cd': 'N', 'unit': '/min', 'observation_id': '034e9e3b-2def-4559-bb2a-7850888ae060e88bc3a9-007c-405e-aabc-792a38f4aa2bLOINC:9279-12012-01-23 17:45:28', 'nval_num': 14.0, 'tval_char': None}  ... displaying 10 of 287897 total bound parameter sets ...  {'start_date': datetime.datetime(2018, 9, 5, 16, 27, 52), 'patient_num': 'fc817953-cc8b-45db-9c85-7c0ced8fa90d', 'encounter_num': 'nan', 'concept_cd': 'LOINC:QOLS', 'valtype_cd': 'N', 'unit': '{score}', 'observation_id': 'fc817953-cc8b-45db-9c85-7c0ced8fa90dnanLOINC:QOLS2018-09-05 16:27:52', 'nval_num': 1.0, 'tval_char': None}, {'start_date': datetime.datetime(2019, 9, 5, 16, 27, 52), 'patient_num': 'fc817953-cc8b-45db-9c85-7c0ced8fa90d', 'encounter_num': 'nan', 'concept_cd': 'LOINC:QOLS', 'valtype_cd': 'N', 'unit': '{score}', 'observation_id': 'fc817953-cc8b-45db-9c85-7c0ced8fa90dnanLOINC:QOLS2019-09-05 16:27:52', 'nval_num': 1.0, 'tval_char': None})]\n(Background on this error at: https://sqlalche.me/e/14/gkpj)"
     ]
    }
   ],
   "source": [
    "observations = pd.read_csv(root / \"observations.csv\", delimiter=\",\")\n",
    "observations_column = { \"DATE\": \"start_date\",\n",
    "                       \"PATIENT\": \"patient_num\", \n",
    "                       \"ENCOUNTER\": \"encounter_num\", \n",
    "                       \"CODE\": \"concept_cd\", \n",
    "                       \"TYPE\": \"valtype_cd\", \n",
    "                       \"VALUE\": \"value_undefined\", \n",
    "                       \"UNITS\": \"unit\"}\n",
    "observations_type = {\"start_date\": np.datetime64,\n",
    "                    \"patient_num\": str,\n",
    "                    \"encounter_num\": str,\n",
    "                    \"concept_cd\": str,\n",
    "                    \"valtype_cd\": str,\n",
    "                    \"value_undefined\": str,\n",
    "                    \"unit\": str\n",
    "                    }\n",
    "observations = observations.rename(observations_column, axis=1)[observations_column.values()]\n",
    "observations = observations.astype(observations_type)\n",
    "observations.concept_cd = \"LOINC:\" + observations.concept_cd\n",
    "observations['observation_id'] = (observations.patient_num + observations.encounter_num + observations.concept_cd + observations.start_date.astype(str))\n",
    "observations.loc[observations.valtype_cd == \"numeric\", \"valtype_cd\"] = \"N\"\n",
    "observations.loc[observations.valtype_cd == \"text\", \"valtype_cd\"] = \"T\"\n",
    "observations['nval_num'] = observations.loc[observations.valtype_cd == \"N\", \"value_undefined\"].astype(float)\n",
    "observations['tval_char'] = observations.loc[observations.valtype_cd == \"T\", \"value_undefined\"].astype(str)\n",
    "observations = observations.drop(\"value_undefined\", axis=1)\n",
    "observations = observations.loc[observations.concept_cd != \"LOINC:QALY\", :].reset_index(drop=True)\n",
    "observations = observations.loc[observations.concept_cd != \"LOINC:DALY\", :].reset_index(drop=True)\n",
    "observations = observations.loc[observations.concept_cd != \"LOINC:QOLS\", :].reset_index(drop=True)\n",
    "observations = obserations.drop_duplicates(\"observation_id\")\n",
    "observations.to_sql(index=False, name=\"observation_fact\", con=engine, if_exists=\"append\")"
   ]
  },
  {
   "cell_type": "code",
   "execution_count": 342,
   "id": "c4597d29",
   "metadata": {},
   "outputs": [
    {
     "data": {
      "text/html": [
       "<div>\n",
       "<style scoped>\n",
       "    .dataframe tbody tr th:only-of-type {\n",
       "        vertical-align: middle;\n",
       "    }\n",
       "\n",
       "    .dataframe tbody tr th {\n",
       "        vertical-align: top;\n",
       "    }\n",
       "\n",
       "    .dataframe thead th {\n",
       "        text-align: right;\n",
       "    }\n",
       "</style>\n",
       "<table border=\"1\" class=\"dataframe\">\n",
       "  <thead>\n",
       "    <tr style=\"text-align: right;\">\n",
       "      <th></th>\n",
       "      <th>start_date</th>\n",
       "      <th>patient_num</th>\n",
       "      <th>encounter_num</th>\n",
       "      <th>concept_cd</th>\n",
       "      <th>valtype_cd</th>\n",
       "      <th>unit</th>\n",
       "      <th>observation_id</th>\n",
       "      <th>nval_num</th>\n",
       "      <th>tval_char</th>\n",
       "    </tr>\n",
       "  </thead>\n",
       "  <tbody>\n",
       "    <tr>\n",
       "      <th>0</th>\n",
       "      <td>2012-01-23 17:45:28</td>\n",
       "      <td>034e9e3b-2def-4559-bb2a-7850888ae060</td>\n",
       "      <td>e88bc3a9-007c-405e-aabc-792a38f4aa2b</td>\n",
       "      <td>LOINC:8302-2</td>\n",
       "      <td>N</td>\n",
       "      <td>cm</td>\n",
       "      <td>034e9e3b-2def-4559-bb2a-7850888ae060e88bc3a9-0...</td>\n",
       "      <td>193.3</td>\n",
       "      <td>NaN</td>\n",
       "    </tr>\n",
       "    <tr>\n",
       "      <th>1</th>\n",
       "      <td>2012-01-23 17:45:28</td>\n",
       "      <td>034e9e3b-2def-4559-bb2a-7850888ae060</td>\n",
       "      <td>e88bc3a9-007c-405e-aabc-792a38f4aa2b</td>\n",
       "      <td>LOINC:72514-3</td>\n",
       "      <td>N</td>\n",
       "      <td>{score}</td>\n",
       "      <td>034e9e3b-2def-4559-bb2a-7850888ae060e88bc3a9-0...</td>\n",
       "      <td>2.0</td>\n",
       "      <td>NaN</td>\n",
       "    </tr>\n",
       "    <tr>\n",
       "      <th>2</th>\n",
       "      <td>2012-01-23 17:45:28</td>\n",
       "      <td>034e9e3b-2def-4559-bb2a-7850888ae060</td>\n",
       "      <td>e88bc3a9-007c-405e-aabc-792a38f4aa2b</td>\n",
       "      <td>LOINC:29463-7</td>\n",
       "      <td>N</td>\n",
       "      <td>kg</td>\n",
       "      <td>034e9e3b-2def-4559-bb2a-7850888ae060e88bc3a9-0...</td>\n",
       "      <td>87.8</td>\n",
       "      <td>NaN</td>\n",
       "    </tr>\n",
       "    <tr>\n",
       "      <th>3</th>\n",
       "      <td>2012-01-23 17:45:28</td>\n",
       "      <td>034e9e3b-2def-4559-bb2a-7850888ae060</td>\n",
       "      <td>e88bc3a9-007c-405e-aabc-792a38f4aa2b</td>\n",
       "      <td>LOINC:39156-5</td>\n",
       "      <td>N</td>\n",
       "      <td>kg/m2</td>\n",
       "      <td>034e9e3b-2def-4559-bb2a-7850888ae060e88bc3a9-0...</td>\n",
       "      <td>23.5</td>\n",
       "      <td>NaN</td>\n",
       "    </tr>\n",
       "    <tr>\n",
       "      <th>4</th>\n",
       "      <td>2012-01-23 17:45:28</td>\n",
       "      <td>034e9e3b-2def-4559-bb2a-7850888ae060</td>\n",
       "      <td>e88bc3a9-007c-405e-aabc-792a38f4aa2b</td>\n",
       "      <td>LOINC:8462-4</td>\n",
       "      <td>N</td>\n",
       "      <td>mm[Hg]</td>\n",
       "      <td>034e9e3b-2def-4559-bb2a-7850888ae060e88bc3a9-0...</td>\n",
       "      <td>82.0</td>\n",
       "      <td>NaN</td>\n",
       "    </tr>\n",
       "    <tr>\n",
       "      <th>...</th>\n",
       "      <td>...</td>\n",
       "      <td>...</td>\n",
       "      <td>...</td>\n",
       "      <td>...</td>\n",
       "      <td>...</td>\n",
       "      <td>...</td>\n",
       "      <td>...</td>\n",
       "      <td>...</td>\n",
       "      <td>...</td>\n",
       "    </tr>\n",
       "    <tr>\n",
       "      <th>299692</th>\n",
       "      <td>2015-09-05 16:27:52</td>\n",
       "      <td>fc817953-cc8b-45db-9c85-7c0ced8fa90d</td>\n",
       "      <td>nan</td>\n",
       "      <td>LOINC:QOLS</td>\n",
       "      <td>N</td>\n",
       "      <td>{score}</td>\n",
       "      <td>fc817953-cc8b-45db-9c85-7c0ced8fa90dnanLOINC:Q...</td>\n",
       "      <td>1.0</td>\n",
       "      <td>NaN</td>\n",
       "    </tr>\n",
       "    <tr>\n",
       "      <th>299693</th>\n",
       "      <td>2016-09-05 16:27:52</td>\n",
       "      <td>fc817953-cc8b-45db-9c85-7c0ced8fa90d</td>\n",
       "      <td>nan</td>\n",
       "      <td>LOINC:QOLS</td>\n",
       "      <td>N</td>\n",
       "      <td>{score}</td>\n",
       "      <td>fc817953-cc8b-45db-9c85-7c0ced8fa90dnanLOINC:Q...</td>\n",
       "      <td>1.0</td>\n",
       "      <td>NaN</td>\n",
       "    </tr>\n",
       "    <tr>\n",
       "      <th>299694</th>\n",
       "      <td>2017-09-05 16:27:52</td>\n",
       "      <td>fc817953-cc8b-45db-9c85-7c0ced8fa90d</td>\n",
       "      <td>nan</td>\n",
       "      <td>LOINC:QOLS</td>\n",
       "      <td>N</td>\n",
       "      <td>{score}</td>\n",
       "      <td>fc817953-cc8b-45db-9c85-7c0ced8fa90dnanLOINC:Q...</td>\n",
       "      <td>1.0</td>\n",
       "      <td>NaN</td>\n",
       "    </tr>\n",
       "    <tr>\n",
       "      <th>299695</th>\n",
       "      <td>2018-09-05 16:27:52</td>\n",
       "      <td>fc817953-cc8b-45db-9c85-7c0ced8fa90d</td>\n",
       "      <td>nan</td>\n",
       "      <td>LOINC:QOLS</td>\n",
       "      <td>N</td>\n",
       "      <td>{score}</td>\n",
       "      <td>fc817953-cc8b-45db-9c85-7c0ced8fa90dnanLOINC:Q...</td>\n",
       "      <td>1.0</td>\n",
       "      <td>NaN</td>\n",
       "    </tr>\n",
       "    <tr>\n",
       "      <th>299696</th>\n",
       "      <td>2019-09-05 16:27:52</td>\n",
       "      <td>fc817953-cc8b-45db-9c85-7c0ced8fa90d</td>\n",
       "      <td>nan</td>\n",
       "      <td>LOINC:QOLS</td>\n",
       "      <td>N</td>\n",
       "      <td>{score}</td>\n",
       "      <td>fc817953-cc8b-45db-9c85-7c0ced8fa90dnanLOINC:Q...</td>\n",
       "      <td>1.0</td>\n",
       "      <td>NaN</td>\n",
       "    </tr>\n",
       "  </tbody>\n",
       "</table>\n",
       "<p>287897 rows × 9 columns</p>\n",
       "</div>"
      ],
      "text/plain": [
       "                start_date                           patient_num  \\\n",
       "0      2012-01-23 17:45:28  034e9e3b-2def-4559-bb2a-7850888ae060   \n",
       "1      2012-01-23 17:45:28  034e9e3b-2def-4559-bb2a-7850888ae060   \n",
       "2      2012-01-23 17:45:28  034e9e3b-2def-4559-bb2a-7850888ae060   \n",
       "3      2012-01-23 17:45:28  034e9e3b-2def-4559-bb2a-7850888ae060   \n",
       "4      2012-01-23 17:45:28  034e9e3b-2def-4559-bb2a-7850888ae060   \n",
       "...                    ...                                   ...   \n",
       "299692 2015-09-05 16:27:52  fc817953-cc8b-45db-9c85-7c0ced8fa90d   \n",
       "299693 2016-09-05 16:27:52  fc817953-cc8b-45db-9c85-7c0ced8fa90d   \n",
       "299694 2017-09-05 16:27:52  fc817953-cc8b-45db-9c85-7c0ced8fa90d   \n",
       "299695 2018-09-05 16:27:52  fc817953-cc8b-45db-9c85-7c0ced8fa90d   \n",
       "299696 2019-09-05 16:27:52  fc817953-cc8b-45db-9c85-7c0ced8fa90d   \n",
       "\n",
       "                               encounter_num     concept_cd valtype_cd  \\\n",
       "0       e88bc3a9-007c-405e-aabc-792a38f4aa2b   LOINC:8302-2          N   \n",
       "1       e88bc3a9-007c-405e-aabc-792a38f4aa2b  LOINC:72514-3          N   \n",
       "2       e88bc3a9-007c-405e-aabc-792a38f4aa2b  LOINC:29463-7          N   \n",
       "3       e88bc3a9-007c-405e-aabc-792a38f4aa2b  LOINC:39156-5          N   \n",
       "4       e88bc3a9-007c-405e-aabc-792a38f4aa2b   LOINC:8462-4          N   \n",
       "...                                      ...            ...        ...   \n",
       "299692                                   nan     LOINC:QOLS          N   \n",
       "299693                                   nan     LOINC:QOLS          N   \n",
       "299694                                   nan     LOINC:QOLS          N   \n",
       "299695                                   nan     LOINC:QOLS          N   \n",
       "299696                                   nan     LOINC:QOLS          N   \n",
       "\n",
       "           unit                                     observation_id  nval_num  \\\n",
       "0            cm  034e9e3b-2def-4559-bb2a-7850888ae060e88bc3a9-0...     193.3   \n",
       "1       {score}  034e9e3b-2def-4559-bb2a-7850888ae060e88bc3a9-0...       2.0   \n",
       "2            kg  034e9e3b-2def-4559-bb2a-7850888ae060e88bc3a9-0...      87.8   \n",
       "3         kg/m2  034e9e3b-2def-4559-bb2a-7850888ae060e88bc3a9-0...      23.5   \n",
       "4        mm[Hg]  034e9e3b-2def-4559-bb2a-7850888ae060e88bc3a9-0...      82.0   \n",
       "...         ...                                                ...       ...   \n",
       "299692  {score}  fc817953-cc8b-45db-9c85-7c0ced8fa90dnanLOINC:Q...       1.0   \n",
       "299693  {score}  fc817953-cc8b-45db-9c85-7c0ced8fa90dnanLOINC:Q...       1.0   \n",
       "299694  {score}  fc817953-cc8b-45db-9c85-7c0ced8fa90dnanLOINC:Q...       1.0   \n",
       "299695  {score}  fc817953-cc8b-45db-9c85-7c0ced8fa90dnanLOINC:Q...       1.0   \n",
       "299696  {score}  fc817953-cc8b-45db-9c85-7c0ced8fa90dnanLOINC:Q...       1.0   \n",
       "\n",
       "       tval_char  \n",
       "0            NaN  \n",
       "1            NaN  \n",
       "2            NaN  \n",
       "3            NaN  \n",
       "4            NaN  \n",
       "...          ...  \n",
       "299692       NaN  \n",
       "299693       NaN  \n",
       "299694       NaN  \n",
       "299695       NaN  \n",
       "299696       NaN  \n",
       "\n",
       "[287897 rows x 9 columns]"
      ]
     },
     "execution_count": 342,
     "metadata": {},
     "output_type": "execute_result"
    }
   ],
   "source": [
    "observations"
   ]
  }
 ],
 "metadata": {
  "kernelspec": {
   "display_name": "Python [conda env:ds] *",
   "language": "python",
   "name": "conda-env-ds-py"
  },
  "language_info": {
   "codemirror_mode": {
    "name": "ipython",
    "version": 3
   },
   "file_extension": ".py",
   "mimetype": "text/x-python",
   "name": "python",
   "nbconvert_exporter": "python",
   "pygments_lexer": "ipython3",
   "version": "3.10.5"
  }
 },
 "nbformat": 4,
 "nbformat_minor": 5
}
